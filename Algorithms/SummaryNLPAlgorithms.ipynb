{
 "cells": [
  {
   "cell_type": "markdown",
   "id": "d2a4cb09",
   "metadata": {},
   "source": [
    "# Natural Language Processing (NLP)"
   ]
  },
  {
   "cell_type": "markdown",
   "id": "ca518834",
   "metadata": {},
   "source": [
    "Here, I summarize some tips for Natural language processing (NLP).\n",
    "What can we do with text can be listed as,\n",
    "- Parse text,\n",
    "    - try to understand what it says.\n",
    "- Identify, extract and find information from text,\n",
    "- Classify text,\n",
    "- Search for relevant text documents,\n",
    "- Sentiment analysis,\n",
    "    - positive or negative, happy or sad.\n",
    "- Topic modeling,\n",
    "    - how many topic discuss in the text."
   ]
  },
  {
   "cell_type": "markdown",
   "id": "0341eed2",
   "metadata": {},
   "source": [
    "## Primitive constructs in text\n",
    "- Documents or larger text,\n",
    "- Sentences,\n",
    "- Words or Tockens,\n",
    "- Characters."
   ]
  },
  {
   "cell_type": "markdown",
   "id": "3708887e",
   "metadata": {},
   "source": [
    "## Tockenize sentences\n",
    "- textlist = text.split('')\n",
    "\n",
    "## Checking string\n",
    "\n",
    "### Finding specific words\n",
    "- finding word longer than 2 characters\n",
    "    - [w for w in textlist if len(w)>2]\n",
    "\n",
    "- Finding words which start with capital character\n",
    "    - [w for w in textlist if w.istitle()]\n",
    "- Finding words which ends with special character like s\n",
    "    - [w for w in textlist if w.endswith('s')]\n",
    "\n",
    "### Finding unique words\n",
    "- set(textlist)\n",
    "- set(word.lower() for w in textlist)\n",
    "\n",
    "### Some word comparison function\n",
    "- string.startswith('t')\n",
    "- string.endswith('t')\n",
    "- t in s\n",
    "    - to fund substring in a string\n",
    "### Check for some patterns in a string\n",
    "- string.isupper()\n",
    "- string.islower()\n",
    "- string.istitle()\n",
    "- including just alphabet\n",
    "    - string.isalpha()\n",
    "- including just digits\n",
    "    - string.isdigit()\n",
    "- includung alphabet or digits\n",
    "    - string.isalnum()\n",
    "\n"
   ]
  },
  {
   "cell_type": "markdown",
   "id": "6e03f358",
   "metadata": {},
   "source": [
    "## String operations\n",
    "- split a sentence on a substring\n",
    "    - string.split('substring')\n",
    "- split a sentence on the new line character or end of line character \\n\n",
    "    - s.splitlines()\n",
    "- join (opposite of split)\n",
    "    - t.join(s)\n",
    "- cleaning white character\n",
    "    - take out all the white character (space and tab)\n",
    "        - s.strip()\n",
    "    - take out all the white character (space and tab) from end\n",
    "        - s.rstrip()\n",
    "- finding\n",
    "    - find a substring (t) from the front of a string\n",
    "        - s.find()\n",
    "    - find a substring (t) from the end of a string and the last newline character \n",
    "        - s.rfind()\n",
    "- replace u in s with v\n",
    "    - string.replace(u,v)\n",
    "- make it lowercase\n",
    "    - string.lower()\n",
    "- make it uppercase\n",
    "    - string.upper()\n",
    "- make it capitalize\n",
    "    - string.titlecase()\n",
    "- make \n",
    "    - string.upper()\n",
    "- make it capitalize\n",
    "    - string.titlecase()\n"
   ]
  },
  {
   "cell_type": "markdown",
   "id": "a55655e0",
   "metadata": {},
   "source": [
    "# Examples"
   ]
  },
  {
   "cell_type": "code",
   "execution_count": 10,
   "id": "8fad6b01",
   "metadata": {},
   "outputs": [
    {
     "data": {
      "text/plain": [
       "['', 'agad', 'g', '']"
      ]
     },
     "execution_count": 10,
     "metadata": {},
     "output_type": "execute_result"
    }
   ],
   "source": [
    "text1 = 'ouagadougou'\n",
    "text2 = text1.split('ou')\n",
    "text2"
   ]
  },
  {
   "cell_type": "code",
   "execution_count": 4,
   "id": "7a6813f8",
   "metadata": {
    "scrolled": true
   },
   "outputs": [
    {
     "data": {
      "text/plain": [
       "'ouagadougou'"
      ]
     },
     "execution_count": 4,
     "metadata": {},
     "output_type": "execute_result"
    }
   ],
   "source": [
    "text3 = 'ou'.join(text2)\n",
    "text3"
   ]
  },
  {
   "cell_type": "markdown",
   "id": "2b1746db",
   "metadata": {},
   "source": [
    "### Get the array from individual characters"
   ]
  },
  {
   "cell_type": "code",
   "execution_count": 7,
   "id": "18462714",
   "metadata": {},
   "outputs": [
    {
     "data": {
      "text/plain": [
       "['o', 'u', 'a', 'g', 'a', 'd', 'o', 'u', 'g', 'o', 'u']"
      ]
     },
     "execution_count": 7,
     "metadata": {},
     "output_type": "execute_result"
    }
   ],
   "source": [
    "# 1)\n",
    "list(text1)"
   ]
  },
  {
   "cell_type": "code",
   "execution_count": 6,
   "id": "a4d82844",
   "metadata": {},
   "outputs": [
    {
     "data": {
      "text/plain": [
       "['o', 'u', 'a', 'g', 'a', 'd', 'o', 'u', 'g', 'o', 'u']"
      ]
     },
     "execution_count": 6,
     "metadata": {},
     "output_type": "execute_result"
    }
   ],
   "source": [
    "# 2)\n",
    "[c for c in text1]"
   ]
  },
  {
   "cell_type": "markdown",
   "id": "31b54ddd",
   "metadata": {},
   "source": [
    "### Cleaning text"
   ]
  },
  {
   "cell_type": "code",
   "execution_count": 14,
   "id": "90b9670f",
   "metadata": {},
   "outputs": [
    {
     "data": {
      "text/plain": [
       "'Mahroo'"
      ]
     },
     "execution_count": 14,
     "metadata": {},
     "output_type": "execute_result"
    }
   ],
   "source": [
    "name = ' Mahroo '\n",
    "name.strip()"
   ]
  },
  {
   "cell_type": "code",
   "execution_count": 16,
   "id": "1c1e036d",
   "metadata": {},
   "outputs": [
    {
     "data": {
      "text/plain": [
       "' Mahroo'"
      ]
     },
     "execution_count": 16,
     "metadata": {},
     "output_type": "execute_result"
    }
   ],
   "source": [
    "name.rstrip()"
   ]
  },
  {
   "cell_type": "markdown",
   "id": "507a9d80",
   "metadata": {},
   "source": [
    "# File operation\n",
    "Reading a larger text"
   ]
  },
  {
   "cell_type": "markdown",
   "id": "70baf736",
   "metadata": {},
   "source": [
    "- f = open(file.txt, 'mode')\n",
    "    - mode:\n",
    "        - read mode: r\n",
    "        - write mode: w\n",
    "- read\n",
    "    - f.read()\n",
    "    - f.readline()\n",
    "    - f.read(n)\n",
    "\n",
    "- Reset reading position back to\n",
    "    - seek(n)\n",
    "        - n=0: sets the reference point at the beginning of the file \n",
    "        - n=1: sets the reference point at the current file position \n",
    "        - n=2: sets the reference point at the end of the file\n",
    "\n",
    "- Write a message\n",
    "    - f.write(message)\n",
    "\n",
    "- Close a file\n",
    "    - f.close()"
   ]
  },
  {
   "cell_type": "markdown",
   "id": "e3b0ee14",
   "metadata": {},
   "source": [
    "* matching a pattern at least once\n",
    "    - +\n",
    "* matching a pattern zero or more times\n",
    "    - *\n",
    "* matching xyz at the start of the string\n",
    "    - ^xyz\n",
    "* matching xyz at the end of the string\n",
    "    - xyz$\n",
    "    \n",
    "    \n"
   ]
  },
  {
   "cell_type": "code",
   "execution_count": null,
   "id": "4750b345",
   "metadata": {},
   "outputs": [],
   "source": []
  }
 ],
 "metadata": {
  "kernelspec": {
   "display_name": "Python 3 (ipykernel)",
   "language": "python",
   "name": "python3"
  },
  "language_info": {
   "codemirror_mode": {
    "name": "ipython",
    "version": 3
   },
   "file_extension": ".py",
   "mimetype": "text/x-python",
   "name": "python",
   "nbconvert_exporter": "python",
   "pygments_lexer": "ipython3",
   "version": "3.7.13"
  }
 },
 "nbformat": 4,
 "nbformat_minor": 5
}
