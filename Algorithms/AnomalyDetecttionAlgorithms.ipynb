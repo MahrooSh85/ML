{
 "cells": [
  {
   "cell_type": "markdown",
   "id": "fd26431b",
   "metadata": {},
   "source": [
    "# Anomaly detection:\n",
    "\n",
    " \n",
    "\n",
    "Anomaly detection is an effective means of identifying unusual or unexpected events and measurements within a dataset. As the term unexpected can also be read as statistically improbable, it should be clear why anomaly detection depends heavily on deep knowledge of a system's baseline performance and behavior for its insights and load forecasts. Detecting outliers or anomalies is one of the core problems in **data mining**. when preparing datasets for machine learning models, it is really important to detect all the outliers and either get rid of them or analyze them to know why you had them there in the first place.\n",
    "\n"
   ]
  },
  {
   "cell_type": "markdown",
   "id": "77889729",
   "metadata": {},
   "source": [
    "* Univariate anomaly detection\n",
    "* Multivariant anomaly detection"
   ]
  },
  {
   "cell_type": "markdown",
   "id": "8be9f35a",
   "metadata": {},
   "source": [
    "## Anomaly Detection Algorithms:\n",
    "There are more algorithms for anomaly detection.\n",
    "\n",
    "Some of the algorithms are trying to find the normal region of the data then identifies anything outside of this defined region to be an outlier or anomalous. \n",
    "\n",
    "- ### Standard Deviation:\n",
    "    * In statistics, If a data distribution is approximately normal then about 68% of the data values lie within one standard deviation of the mean and about 95% are within two standard deviations, and about 99.7% lie within three standard deviations. Therefore, if you have any data point that is more than 3 times the standard deviation, then those points are very likely to be anomalous or outliers.\n",
    " \n",
    "\n",
    "- ### Interquartile Range:\n",
    "    * IQR is a concept in statistics that is used to measure the statistical dispersion and data variability by dividing the dataset into quartiles.\n",
    "    * IQR is used to build the boxplot graphs. \n",
    "\n",
    "- ### Boxplots:\n",
    "    * The concept of the Interquartile Range (IQR) is used to build the boxplot graphs.\n",
    "- ### DBScan Clustering:\n",
    "\n",
    "\n",
    "- ### Median Absolute Deviation\n",
    "\n",
    "- ### K-Nearest Neighbours:\n",
    "    * For a data point, its distance to its kth nearest neighbor could be viewed as the outlier score.\n",
    "\n",
    "\n",
    "On the other hand, some of algorithms detect anomaly by isolation rather than modeling normal points.\n",
    "\n",
    "- ### Isolation Forest:\n",
    "    * Return the anomaly score of each sample using the IsolationForest algorithm.\n",
    "    * It takes advantage of the fact that anomalies are the minority data points and that they have attribute-values that are very different from those of normal instances.\n",
    "    * This algorithm works great with very high dimensional datasets and it proved to be a very effective way of detecting anomalies.\n",
    "    * The IsolationForest ‘isolates’ observations by randomly selecting a feature and then randomly selecting a split value between the maximum and minimum values of the selected feature.\n",
    "    * This code will output the predictions for each data point in an array. If the result is -1, it means that this specific data point is an outlier. If the result is 1, then it means that the data point is not an outlier.\n",
    "    * #### <span style='color:green'>scikit-learn:</span>\n",
    "        - from sklearn.ensemble import IsolationForest\n",
    "\n",
    "- ### Robust Random Cut Forest (RCF):\n",
    "    * It is Amazon’s **unsupervised** algorithm for detecting anomalies.\n",
    "    * It works by associating an **anomaly score** as well. Low score values indicate that the data point is considered “normal.”\n",
    "    * common practice suggests that scores beyond three standard deviations from the mean score are considered anomalous.\n",
    "    * "
   ]
  },
  {
   "cell_type": "markdown",
   "id": "cebe92ee",
   "metadata": {},
   "source": []
  },
  {
   "cell_type": "markdown",
   "id": "79f0ca96",
   "metadata": {},
   "source": [
    "https://scikit-learn.org/stable/modules/outlier_detection.html\n",
    "\n",
    "https://towardsdatascience.com/anomaly-detection-for-dummies-15f148e559c1\n",
    "\n",
    "https://towardsdatascience.com/5-ways-to-detect-outliers-that-every-data-scientist-should-know-python-code-70a54335a623\n",
    "\n",
    "https://learn.microsoft.com/en-us/azure/cognitive-services/anomaly-detector/overview"
   ]
  },
  {
   "cell_type": "code",
   "execution_count": null,
   "id": "5d94b8a1",
   "metadata": {},
   "outputs": [],
   "source": []
  }
 ],
 "metadata": {
  "kernelspec": {
   "display_name": "Python 3 (ipykernel)",
   "language": "python",
   "name": "python3"
  },
  "language_info": {
   "codemirror_mode": {
    "name": "ipython",
    "version": 3
   },
   "file_extension": ".py",
   "mimetype": "text/x-python",
   "name": "python",
   "nbconvert_exporter": "python",
   "pygments_lexer": "ipython3",
   "version": "3.8.9"
  }
 },
 "nbformat": 4,
 "nbformat_minor": 5
}
