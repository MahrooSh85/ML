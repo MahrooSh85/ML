{
 "cells": [
  {
   "cell_type": "code",
   "execution_count": 1,
   "id": "11c0aa5c",
   "metadata": {},
   "outputs": [],
   "source": [
    "import pandas as pd\n",
    "import numpy as np"
   ]
  },
  {
   "cell_type": "code",
   "execution_count": 2,
   "id": "d2fcda35",
   "metadata": {},
   "outputs": [],
   "source": [
    "# create a Binary-Class Classification.\n",
    "# Input Feature X and Y.\n",
    "x = np.array([[2, 1.5], [-2, -1], [-1, -1], [2, 1], [1, 5], [0.5, 0.5], [-2, 0.5]])\n",
    "y = np.array([0, 0, 1, 1, 1, 1, 0])\n",
    "\n",
    "# Training set Feature x_train and Target y_train.\n",
    "x_train = np.array([[2, 1.5], [-2, -1], [-1, -1], [2, 1]])\n",
    "y_train = np.array([0, 0, 1, 1])\n",
    "\n",
    "# Test set Feature x_test and target y_test.\n",
    "x_test = np.array([[1, 5], [0.5, 0.5], [-2, 0.5]])\n",
    "y_test = np.array([1, 1, 0])"
   ]
  },
  {
   "cell_type": "code",
   "execution_count": 3,
   "id": "e45346ef",
   "metadata": {
    "scrolled": true
   },
   "outputs": [
    {
     "data": {
      "text/plain": [
       "Text(0.5, 1.0, 'Binary class with two features')"
      ]
     },
     "execution_count": 3,
     "metadata": {},
     "output_type": "execute_result"
    },
    {
     "data": {
      "image/png": "[encoded data removed]",
      "text/plain": [
       "<Figure size 432x288 with 1 Axes>"
      ]
     },
     "metadata": {
      "needs_background": "light"
     },
     "output_type": "display_data"
    }
   ],
   "source": [
    "# Plot the obtained data\n",
    "import matplotlib.pyplot as plt\n",
    "plt.scatter(x[:, 0], x[:, 1], c = y)\n",
    "plt.xlabel('Feature 1 --->')\n",
    "plt.ylabel('Feature 2 --->')\n",
    "plt.title('Binary class with two features')"
   ]
  },
  {
   "cell_type": "markdown",
   "id": "271ea30f",
   "metadata": {},
   "source": [
    "## Learn the data"
   ]
  },
  {
   "cell_type": "code",
   "execution_count": 21,
   "id": "f1a0b339",
   "metadata": {
    "scrolled": true
   },
   "outputs": [
    {
     "name": "stdout",
     "output_type": "stream",
     "text": [
      "Classes: [0 1]\n",
      "Accuracy of the model is: 0.6666666666666666\n",
      "Actual Output is: [1 1 0]\n",
      "Predicted Values from Classifier: [0 1 0]\n",
      "Output of Decision Function is: [-0.04274893  0.29143233 -0.13001369]\n"
     ]
    }
   ],
   "source": [
    "from sklearn.svm import SVC\n",
    "# since we later call predict_proba()\n",
    "# we should set probability=True\n",
    "\n",
    "model = SVC(probability=True)\n",
    "model.fit(x_train, y_train)\n",
    "\n",
    "y_pred = model.predict(x_test)\n",
    "Decision_Function = model.decision_function(x_test)\n",
    "\n",
    "print('Classes:', model.classes_)\n",
    "print('Accuracy of the model is:', model.score(x_test, y_test))\n",
    "print('Actual Output is:', y_test)\n",
    "print('Predicted Values from Classifier:', y_pred)\n",
    "print('Output of Decision Function is:', Decision_Function)"
   ]
  },
  {
   "cell_type": "code",
   "execution_count": 23,
   "id": "21fb29fc",
   "metadata": {},
   "outputs": [
    {
     "name": "stdout",
     "output_type": "stream",
     "text": [
      "Predict probability of Classifier:\n",
      " [[0.48743434 0.51256566]\n",
      " [0.58029498 0.41970502]\n",
      " [0.46297971 0.53702029]]\n"
     ]
    }
   ],
   "source": [
    "print('Predict probability of Classifier:\\n', model.predict_proba(x_test))"
   ]
  },
  {
   "cell_type": "code",
   "execution_count": 13,
   "id": "bbf35088",
   "metadata": {},
   "outputs": [
    {
     "name": "stdout",
     "output_type": "stream",
     "text": [
      "              precision    recall  f1-score   support\n",
      "\n",
      "           0       0.50      1.00      0.67         1\n",
      "           1       1.00      0.50      0.67         2\n",
      "\n",
      "    accuracy                           0.67         3\n",
      "   macro avg       0.75      0.75      0.67         3\n",
      "weighted avg       0.83      0.67      0.67         3\n",
      "\n"
     ]
    }
   ],
   "source": [
    "from sklearn.metrics import classification_report\n",
    "print(classification_report(y_test,y_pred))"
   ]
  },
  {
   "cell_type": "code",
   "execution_count": null,
   "id": "38593bcf",
   "metadata": {},
   "outputs": [],
   "source": []
  }
 ],
 "metadata": {
  "kernelspec": {
   "display_name": "Python 3 (ipykernel)",
   "language": "python",
   "name": "python3"
  },
  "language_info": {
   "codemirror_mode": {
    "name": "ipython",
    "version": 3
   },
   "file_extension": ".py",
   "mimetype": "text/x-python",
   "name": "python",
   "nbconvert_exporter": "python",
   "pygments_lexer": "ipython3",
   "version": "3.7.13"
  }
 },
 "nbformat": 4,
 "nbformat_minor": 5
}
