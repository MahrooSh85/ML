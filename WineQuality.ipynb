{
 "cells": [
  {
   "cell_type": "markdown",
   "metadata": {
    "pycharm": {
     "name": "#%% md\n"
    }
   },
   "source": [
    "# Wine Quality\n",
    "Here, I will apply different ML algorithms to predict quality of wine.\n",
    "\n",
    "1) **Normal equation**\n",
    "\n",
    "The prediction of wine quality by **normal equation** is a **linear regression** task. **Normal equation** is an analytical approach to Linear Regression with a Least Square Cost Function.\n",
    "We can directly find out the value of θ without using Gradient Descent. Following this approach is an effective and time-saving option when are working with a dataset with small features.\n",
    "(click on the link to find more <a href=\"https://www.geeksforgeeks.org/ml-normal-equation-in-linear-regression/\"><code>link1</code></a> and <a href=\"http://mlwiki.org/index.php/Normal_Equation\"><code>link2</code></a>\n",
    "\n",
    "2) **Random forest classifier**\n",
    "\n",
    "3) **Neural Network**"
   ]
  },
  {
   "cell_type": "code",
   "execution_count": 1,
   "metadata": {
    "id": "ipcsUFDUzm9C",
    "pycharm": {
     "name": "#%%\n"
    }
   },
   "outputs": [],
   "source": [
    "import numpy as np\n",
    "import pandas as pd\n",
    "import matplotlib.pyplot as plt\n",
    "import seaborn as sb"
   ]
  },
  {
   "cell_type": "markdown",
   "metadata": {
    "pycharm": {
     "name": "#%% md\n"
    }
   },
   "source": [
    "How to get data online:\n",
    "<details>\n",
    "    The code snippet below is responsible for downloading the dataset for example when running via Google Colab. You can also directly download the file using the link if you work with a local setup (in that case, ignore the the block below with !wget)"
   ]
  },
  {
   "cell_type": "code",
   "execution_count": 2,
   "metadata": {
    "colab": {
     "base_uri": "https://localhost:8080/"
    },
    "id": "NopU99AT9G7s",
    "outputId": "accea0c2-ecb3-4f22-f035-de9f727b3d43",
    "pycharm": {
     "name": "#%%\n"
    }
   },
   "outputs": [
    {
     "name": "stdout",
     "output_type": "stream",
     "text": [
      "--2022-03-25 20:30:51--  https://archive.ics.uci.edu/ml/machine-learning-databases/wine-quality/winequality-white.csv\r\n",
      "Resolving archive.ics.uci.edu (archive.ics.uci.edu)... 128.195.10.252\r\n",
      "Connecting to archive.ics.uci.edu (archive.ics.uci.edu)|128.195.10.252|:443... connected.\r\n",
      "HTTP request sent, awaiting response... 200 OK\r\n",
      "Length: 264426 (258K) [application/x-httpd-php]\r\n",
      "Saving to: ‘winequality-white.csv’\r\n",
      "\r\n",
      "winequality-white.c 100%[===================>] 258.23K   368KB/s    in 0.7s    \r\n",
      "\r\n",
      "2022-03-25 20:30:54 (368 KB/s) - ‘winequality-white.csv’ saved [264426/264426]\r\n",
      "\r\n"
     ]
    }
   ],
   "source": [
    "!wget https://archive.ics.uci.edu/ml/machine-learning-databases/wine-quality/winequality-white.csv"
   ]
  },
  {
   "cell_type": "code",
   "execution_count": 3,
   "metadata": {
    "colab": {
     "base_uri": "https://localhost:8080/"
    },
    "id": "5ONqeI5Uzm9H",
    "outputId": "e9e59506-ca1f-43d8-9540-1e38435d0bbf",
    "pycharm": {
     "name": "#%%\n"
    },
    "scrolled": true
   },
   "outputs": [
    {
     "name": "stdout",
     "output_type": "stream",
     "text": [
      "data: (4898, 12)\n"
     ]
    }
   ],
   "source": [
    "# load data from csv file and make a numpy array\n",
    "data = np.genfromtxt('winequality-white.csv',delimiter=\";\",skip_header=1)\n",
    "\n",
    "print(\"data:\", data.shape)\n",
    "\n",
    "# Prepare for proper training\n",
    "np.random.shuffle(data) # randomly sort examples"
   ]
  },
  {
   "cell_type": "code",
   "execution_count": 4,
   "metadata": {
    "pycharm": {
     "name": "#%%\n"
    }
   },
   "outputs": [
    {
     "name": "stdout",
     "output_type": "stream",
     "text": [
      "First example:\n",
      "Features: [6.900e+00 5.600e-01 2.600e-01 1.090e+01 6.000e-02 5.500e+01 1.930e+02\n",
      " 9.969e-01 3.210e+00 4.400e-01 9.400e+00]\n",
      "Quality: 5.0\n"
     ]
    }
   ],
   "source": [
    "# take the first 3000 examples for training\n",
    "x_train = data[:3000,:11] # all features except last column\n",
    "y_train = data[:3000,11]  # quality column\n",
    "\n",
    "# and the remaining examples for testing\n",
    "x_test = data[3000:,:11]\n",
    "y_test = data[3000:,11]\n",
    "\n",
    "print(\"First example:\")\n",
    "print(\"Features:\", x_train[0]) # [0] refers to the first example\n",
    "print(\"Quality:\", y_train[0])"
   ]
  },
  {
   "cell_type": "code",
   "execution_count": 5,
   "metadata": {
    "pycharm": {
     "name": "#%%\n"
    }
   },
   "outputs": [],
   "source": [
    "features = [\"fixed acidity\", \"volatile acidity\", \"citric acid\", \n",
    "            \"residual sugar\", \"chlorides\", \"free sulfur dioxide\", \n",
    "            \"total sulfur dioxide\", \"density\", \"pH\", \"sulphates\", \"alcohol\"]"
   ]
  },
  {
   "cell_type": "markdown",
   "metadata": {
    "id": "jiwnyNHpzm9L",
    "pycharm": {
     "name": "#%% md\n"
    }
   },
   "source": [
    "## Data visualization\n",
    "\n",
    "First we want to understand the data better. \n",
    "* Plot (`plt.hist`) the distribution of each of the features for the training data.\n",
    "* the 2D distribution (either `plt.scatter` or `plt.hist2d`) of each feature versus quality.\n",
    "* Also calculate the correlation coefficient (`np.corrcoef`) for each feature with quality. Which feature by itself seems most predictive for the quality?\n"
   ]
  },
  {
   "cell_type": "markdown",
   "metadata": {
    "pycharm": {
     "name": "#%% md\n"
    }
   },
   "source": [
    "<details>\n",
    "    <a href=\"https://realpython.com/python-enumerate/\"><code>enumerate</code></a>"
   ]
  },
  {
   "cell_type": "code",
   "execution_count": 6,
   "metadata": {
    "colab": {
     "base_uri": "https://localhost:8080/",
     "height": 1000
    },
    "id": "68s7HLT-zm9M",
    "outputId": "9e4efcea-8057-4284-c69d-5a50257217ee",
    "pycharm": {
     "name": "#%%\n"
    },
    "scrolled": false
   },
   "outputs": [
    {
     "data": {
      "image/png": "[encoded data removed]",
      "text/plain": [
       "<Figure size 432x288 with 1 Axes>"
      ]
     },
     "metadata": {
      "needs_background": "light"
     },
     "output_type": "display_data"
    },
    {
     "data": {
      "image/png": "[encoded data removed]",
      "text/plain": [
       "<Figure size 432x288 with 1 Axes>"
      ]
     },
     "metadata": {
      "needs_background": "light"
     },
     "output_type": "display_data"
    },
    {
     "data": {
      "image/png": "[encoded data removed]",
      "text/plain": [
       "<Figure size 432x288 with 1 Axes>"
      ]
     },
     "metadata": {
      "needs_background": "light"
     },
     "output_type": "display_data"
    },
    {
     "name": "stdout",
     "output_type": "stream",
     "text": [
      "Feature: fixed acidity\n",
      "Correlation coefficient: -0.103\n"
     ]
    },
    {
     "data": {
      "image/png": "[encoded data removed]",
      "text/plain": [
       "<Figure size 432x288 with 1 Axes>"
      ]
     },
     "metadata": {
      "needs_background": "light"
     },
     "output_type": "display_data"
    },
    {
     "data": {
      "image/png": "[encoded data removed]",
      "text/plain": [
       "<Figure size 432x288 with 1 Axes>"
      ]
     },
     "metadata": {
      "needs_background": "light"
     },
     "output_type": "display_data"
    },
    {
     "data": {
      "image/png": "[encoded data removed]",
      "text/plain": [
       "<Figure size 432x288 with 1 Axes>"
      ]
     },
     "metadata": {
      "needs_background": "light"
     },
     "output_type": "display_data"
    },
    {
     "name": "stdout",
     "output_type": "stream",
     "text": [
      "Feature: volatile acidity\n",
      "Correlation coefficient: -0.180\n"
     ]
    },
    {
     "data": {
      "image/png": "[encoded data removed]",
      "text/plain": [
       "<Figure size 432x288 with 1 Axes>"
      ]
     },
     "metadata": {
      "needs_background": "light"
     },
     "output_type": "display_data"
    },
    {
     "data": {
      "image/png": "[encoded data removed]",
      "text/plain": [
       "<Figure size 432x288 with 1 Axes>"
      ]
     },
     "metadata": {
      "needs_background": "light"
     },
     "output_type": "display_data"
    },
    {
     "data": {
      "image/png": "[encoded data removed]",
      "text/plain": [
       "<Figure size 432x288 with 1 Axes>"
      ]
     },
     "metadata": {
      "needs_background": "light"
     },
     "output_type": "display_data"
    },
    {
     "name": "stdout",
     "output_type": "stream",
     "text": [
      "Feature: citric acid\n",
      "Correlation coefficient: -0.022\n"
     ]
    },
    {
     "data": {
      "image/png": "[encoded data removed]",
      "text/plain": [
       "<Figure size 432x288 with 1 Axes>"
      ]
     },
     "metadata": {
      "needs_background": "light"
     },
     "output_type": "display_data"
    },
    {
     "data": {
      "image/png": "[encoded data removed]",
      "text/plain": [
       "<Figure size 432x288 with 1 Axes>"
      ]
     },
     "metadata": {
      "needs_background": "light"
     },
     "output_type": "display_data"
    },
    {
     "data": {
      "image/png": "[encoded data removed]",
      "text/plain": [
       "<Figure size 432x288 with 1 Axes>"
      ]
     },
     "metadata": {
      "needs_background": "light"
     },
     "output_type": "display_data"
    },
    {
     "name": "stdout",
     "output_type": "stream",
     "text": [
      "Feature: residual sugar\n",
      "Correlation coefficient: -0.094\n"
     ]
    },
    {
     "data": {
      "image/png": "[encoded data removed]",
      "text/plain": [
       "<Figure size 432x288 with 1 Axes>"
      ]
     },
     "metadata": {
      "needs_background": "light"
     },
     "output_type": "display_data"
    },
    {
     "data": {
      "image/png": "[encoded data removed]",
      "text/plain": [
       "<Figure size 432x288 with 1 Axes>"
      ]
     },
     "metadata": {
      "needs_background": "light"
     },
     "output_type": "display_data"
    },
    {
     "data": {
      "image/png": "[encoded data removed]",
      "text/plain": [
       "<Figure size 432x288 with 1 Axes>"
      ]
     },
     "metadata": {
      "needs_background": "light"
     },
     "output_type": "display_data"
    },
    {
     "name": "stdout",
     "output_type": "stream",
     "text": [
      "Feature: chlorides\n",
      "Correlation coefficient: -0.203\n"
     ]
    },
    {
     "data": {
      "image/png": "[encoded data removed]",
      "text/plain": [
       "<Figure size 432x288 with 1 Axes>"
      ]
     },
     "metadata": {
      "needs_background": "light"
     },
     "output_type": "display_data"
    },
    {
     "data": {
      "image/png": "[encoded data removed]",
      "text/plain": [
       "<Figure size 432x288 with 1 Axes>"
      ]
     },
     "metadata": {
      "needs_background": "light"
     },
     "output_type": "display_data"
    },
    {
     "data": {
      "image/png": "[encoded data removed]",
      "text/plain": [
       "<Figure size 432x288 with 1 Axes>"
      ]
     },
     "metadata": {
      "needs_background": "light"
     },
     "output_type": "display_data"
    },
    {
     "name": "stdout",
     "output_type": "stream",
     "text": [
      "Feature: free sulfur dioxide\n",
      "Correlation coefficient: 0.019\n"
     ]
    },
    {
     "data": {
      "image/png": "[encoded data removed]",
      "text/plain": [
       "<Figure size 432x288 with 1 Axes>"
      ]
     },
     "metadata": {
      "needs_background": "light"
     },
     "output_type": "display_data"
    },
    {
     "data": {
      "image/png": "[encoded data removed]",
      "text/plain": [
       "<Figure size 432x288 with 1 Axes>"
      ]
     },
     "metadata": {
      "needs_background": "light"
     },
     "output_type": "display_data"
    },
    {
     "data": {
      "image/png": "[encoded data removed]",
      "text/plain": [
       "<Figure size 432x288 with 1 Axes>"
      ]
     },
     "metadata": {
      "needs_background": "light"
     },
     "output_type": "display_data"
    },
    {
     "name": "stdout",
     "output_type": "stream",
     "text": [
      "Feature: total sulfur dioxide\n",
      "Correlation coefficient: -0.159\n"
     ]
    },
    {
     "data": {
      "image/png": "[encoded data removed]",
      "text/plain": [
       "<Figure size 432x288 with 1 Axes>"
      ]
     },
     "metadata": {
      "needs_background": "light"
     },
     "output_type": "display_data"
    },
    {
     "data": {
      "image/png": "[encoded data removed]",
      "text/plain": [
       "<Figure size 432x288 with 1 Axes>"
      ]
     },
     "metadata": {
      "needs_background": "light"
     },
     "output_type": "display_data"
    },
    {
     "data": {
      "image/png": "[encoded data removed]",
      "text/plain": [
       "<Figure size 432x288 with 1 Axes>"
      ]
     },
     "metadata": {
      "needs_background": "light"
     },
     "output_type": "display_data"
    },
    {
     "name": "stdout",
     "output_type": "stream",
     "text": [
      "Feature: density\n",
      "Correlation coefficient: -0.306\n"
     ]
    },
    {
     "data": {
      "image/png": "[encoded data removed]",
      "text/plain": [
       "<Figure size 432x288 with 1 Axes>"
      ]
     },
     "metadata": {
      "needs_background": "light"
     },
     "output_type": "display_data"
    },
    {
     "data": {
      "image/png": "[encoded data removed]",
      "text/plain": [
       "<Figure size 432x288 with 1 Axes>"
      ]
     },
     "metadata": {
      "needs_background": "light"
     },
     "output_type": "display_data"
    },
    {
     "data": {
      "image/png": "[encoded data removed]",
      "text/plain": [
       "<Figure size 432x288 with 1 Axes>"
      ]
     },
     "metadata": {
      "needs_background": "light"
     },
     "output_type": "display_data"
    },
    {
     "name": "stdout",
     "output_type": "stream",
     "text": [
      "Feature: pH\n",
      "Correlation coefficient: 0.089\n"
     ]
    },
    {
     "data": {
      "image/png": "[encoded data removed]",
      "text/plain": [
       "<Figure size 432x288 with 1 Axes>"
      ]
     },
     "metadata": {
      "needs_background": "light"
     },
     "output_type": "display_data"
    },
    {
     "data": {
      "image/png": "[encoded data removed]",
      "text/plain": [
       "<Figure size 432x288 with 1 Axes>"
      ]
     },
     "metadata": {
      "needs_background": "light"
     },
     "output_type": "display_data"
    },
    {
     "data": {
      "image/png": "[encoded data removed]",
      "text/plain": [
       "<Figure size 432x288 with 1 Axes>"
      ]
     },
     "metadata": {
      "needs_background": "light"
     },
     "output_type": "display_data"
    },
    {
     "name": "stdout",
     "output_type": "stream",
     "text": [
      "Feature: sulphates\n",
      "Correlation coefficient: 0.058\n"
     ]
    },
    {
     "data": {
      "image/png": "[encoded data removed]",
      "text/plain": [
       "<Figure size 432x288 with 1 Axes>"
      ]
     },
     "metadata": {
      "needs_background": "light"
     },
     "output_type": "display_data"
    },
    {
     "data": {
      "image/png": "[encoded data removed]",
      "text/plain": [
       "<Figure size 432x288 with 1 Axes>"
      ]
     },
     "metadata": {
      "needs_background": "light"
     },
     "output_type": "display_data"
    },
    {
     "data": {
      "image/png": "[encoded data removed]",
      "text/plain": [
       "<Figure size 432x288 with 1 Axes>"
      ]
     },
     "metadata": {
      "needs_background": "light"
     },
     "output_type": "display_data"
    },
    {
     "name": "stdout",
     "output_type": "stream",
     "text": [
      "Feature: alcohol\n",
      "Correlation coefficient: 0.432\n"
     ]
    },
    {
     "data": {
      "text/plain": [
       "<Figure size 432x288 with 0 Axes>"
      ]
     },
     "metadata": {},
     "output_type": "display_data"
    }
   ],
   "source": [
    "# Loop over all features\n",
    "for element_index, element in enumerate(features):\n",
    "    \n",
    "    # 1D Histogram \n",
    "    plt.hist(x_train[:,element_index])\n",
    "    plt.xlabel(element)\n",
    "    plt.ylabel(\"Wines\")\n",
    "    plt.show()\n",
    "    \n",
    "    # Scatter plot 1 and 2 show same information in different representations.\n",
    "    # Scatter Plot 1\n",
    "    plt.scatter(x_train[:,element_index],y_train, s=1, alpha=0.2)\n",
    "    plt.xlabel(element)\n",
    "    plt.ylabel(\"Quality\")\n",
    "    plt.show()\n",
    "\n",
    "    # Scatter Plot 2\n",
    "    plt.hist2d(x_train[:,element_index],y_train, bins=[10, np.arange(0.5, 10.5, 1)])\n",
    "    plt.xlabel(element)\n",
    "    plt.ylabel(\"Quality\")\n",
    "    plt.show()\n",
    "    \n",
    "    # Calulate correlation coefficient\n",
    "    plt.clf()\n",
    "    print(f\"Feature: {element}\")\n",
    "    print(f\"Correlation coefficient: {np.corrcoef(x_train[:,element_index],y_train)[0,1]:.3f}\") \n"
   ]
  },
  {
   "cell_type": "markdown",
   "metadata": {
    "id": "UaeDWDuZ0Rnl",
    "pycharm": {
     "name": "#%% md\n"
    }
   },
   "source": [
    "##  1) Normal equation\n",
    "\n",
    "* Calculate the linear regression weights by solving the normal equation: \n",
    "     $$ W = (x^T x)^{-1} x^T y$$\n",
    "\n",
    "<details>\n",
    "    \n",
    "    * Numpy provides functions for \n",
    "        * matrix multiplication (`np.matmul`), \n",
    "        * matrix transposition (`.T`),\n",
    "        * matrix inversion (`np.linalg.inv`).\n"
   ]
  },
  {
   "cell_type": "code",
   "execution_count": 7,
   "metadata": {
    "colab": {
     "base_uri": "https://localhost:8080/"
    },
    "id": "P-G2ydeLzm9P",
    "outputId": "5f58fa44-ed1e-4cc3-b88c-c36444b3e2e5",
    "pycharm": {
     "name": "#%%\n"
    }
   },
   "outputs": [
    {
     "name": "stdout",
     "output_type": "stream",
     "text": [
      "[-4.43603981e-02 -1.84527919e+00 -1.45793952e-01  2.51287689e-02\n",
      " -8.13945826e-01  4.78552558e-03 -5.98154215e-04  2.19376614e+00\n",
      "  9.44338291e-02  4.73716494e-01  3.64097369e-01]\n",
      "(11,)\n"
     ]
    }
   ],
   "source": [
    "# Calulate weights using train data\n",
    "\n",
    "w = np.matmul(np.matmul(np.linalg.inv(np.matmul(x_train.T, x_train)), x_train.T),y_train)\n",
    "\n",
    "print(w)\n",
    "print(w.shape)"
   ]
  },
  {
   "cell_type": "markdown",
   "metadata": {
    "id": "aQIx9onx0Q9k",
    "pycharm": {
     "name": "#%% md\n"
    }
   },
   "source": [
    "* Use the weights to predict the quality for the test dataset.\n",
    "    * `y_{predict} = x_{test} w`"
   ]
  },
  {
   "cell_type": "code",
   "execution_count": 8,
   "metadata": {
    "colab": {
     "base_uri": "https://localhost:8080/",
     "height": 432
    },
    "id": "v6LqA03Pzm9R",
    "outputId": "5ec67dc4-0ed7-47a1-a802-035ffeecb0f4",
    "pycharm": {
     "name": "#%%\n"
    },
    "scrolled": true
   },
   "outputs": [
    {
     "name": "stdout",
     "output_type": "stream",
     "text": [
      "(1898, 11) (11,) (1898,)\n",
      "[5.9000e+00 2.9000e-01 3.3000e-01 7.4000e+00 3.7000e-02 5.8000e+01\n",
      " 2.0500e+02 9.9495e-01 3.2600e+00 4.1000e-01 9.6000e+00]\n",
      "5.6459068515509685\n"
     ]
    }
   ],
   "source": [
    "# Evaluate linear regression model \n",
    "y_pred = np.matmul(x_test,w)\n",
    "\n",
    "print(x_test.shape,w.shape,y_pred.shape)\n",
    "print(x_test[0])\n",
    "print(y_pred[0])"
   ]
  },
  {
   "cell_type": "markdown",
   "metadata": {
    "pycharm": {
     "name": "#%% md\n"
    }
   },
   "source": [
    "* To find how the predicted quality is good compared to the true quality of the test data, calculate the correlation coefficient between predicted and true quality and draw a scatter plot."
   ]
  },
  {
   "cell_type": "code",
   "execution_count": 9,
   "metadata": {
    "pycharm": {
     "name": "#%%\n"
    }
   },
   "outputs": [
    {
     "name": "stdout",
     "output_type": "stream",
     "text": [
      "Correlation coefficient: 0.536229316181088\n"
     ]
    },
    {
     "data": {
      "image/png": "[encoded data removed]",
      "text/plain": [
       "<Figure size 432x288 with 1 Axes>"
      ]
     },
     "metadata": {
      "needs_background": "light"
     },
     "output_type": "display_data"
    }
   ],
   "source": [
    "print(\"Correlation coefficient:\", np.corrcoef(y_pred,y_test)[0,1])\n",
    "\n",
    "# Prepare scatter plot\n",
    "plt.scatter(y_pred,y_test)\n",
    "plt.xlabel(\"Predicted\")\n",
    "plt.ylabel(\"True\")\n",
    "plt.show()"
   ]
  },
  {
   "cell_type": "markdown",
   "metadata": {
    "pycharm": {
     "name": "#%% md\n"
    }
   },
   "source": [
    "## 2) Random Forest Classifier"
   ]
  },
  {
   "cell_type": "code",
   "execution_count": 10,
   "metadata": {
    "pycharm": {
     "name": "#%%\n"
    }
   },
   "outputs": [
    {
     "data": {
      "text/plain": [
       "(4898, 12)"
      ]
     },
     "execution_count": 10,
     "metadata": {},
     "output_type": "execute_result"
    }
   ],
   "source": [
    "# make pandas DataFrame of data\n",
    "columns = [\"fixed acidity\", \"volatile acidity\", \"citric acid\", \n",
    "            \"residual sugar\", \"chlorides\", \"free sulfur dioxide\", \n",
    "            \"total sulfur dioxide\", \"density\", \"pH\", \"sulphates\", \"alcohol\", \"quality\"]\n",
    "df = pd.DataFrame(data, columns=columns )\n",
    "df.shape"
   ]
  },
  {
   "cell_type": "code",
   "execution_count": 11,
   "metadata": {
    "pycharm": {
     "name": "#%%\n"
    }
   },
   "outputs": [
    {
     "data": {
      "text/html": [
       "<div>\n",
       "<style scoped>\n",
       "    .dataframe tbody tr th:only-of-type {\n",
       "        vertical-align: middle;\n",
       "    }\n",
       "\n",
       "    .dataframe tbody tr th {\n",
       "        vertical-align: top;\n",
       "    }\n",
       "\n",
       "    .dataframe thead th {\n",
       "        text-align: right;\n",
       "    }\n",
       "</style>\n",
       "<table border=\"1\" class=\"dataframe\">\n",
       "  <thead>\n",
       "    <tr style=\"text-align: right;\">\n",
       "      <th></th>\n",
       "      <th>fixed acidity</th>\n",
       "      <th>volatile acidity</th>\n",
       "      <th>citric acid</th>\n",
       "      <th>residual sugar</th>\n",
       "      <th>chlorides</th>\n",
       "      <th>free sulfur dioxide</th>\n",
       "      <th>total sulfur dioxide</th>\n",
       "      <th>density</th>\n",
       "      <th>pH</th>\n",
       "      <th>sulphates</th>\n",
       "      <th>alcohol</th>\n",
       "      <th>quality</th>\n",
       "    </tr>\n",
       "  </thead>\n",
       "  <tbody>\n",
       "    <tr>\n",
       "      <th>0</th>\n",
       "      <td>6.9</td>\n",
       "      <td>0.56</td>\n",
       "      <td>0.26</td>\n",
       "      <td>10.9</td>\n",
       "      <td>0.060</td>\n",
       "      <td>55.0</td>\n",
       "      <td>193.0</td>\n",
       "      <td>0.99690</td>\n",
       "      <td>3.21</td>\n",
       "      <td>0.44</td>\n",
       "      <td>9.4</td>\n",
       "      <td>5.0</td>\n",
       "    </tr>\n",
       "    <tr>\n",
       "      <th>1</th>\n",
       "      <td>7.4</td>\n",
       "      <td>0.31</td>\n",
       "      <td>0.26</td>\n",
       "      <td>8.6</td>\n",
       "      <td>0.048</td>\n",
       "      <td>47.0</td>\n",
       "      <td>206.0</td>\n",
       "      <td>0.99640</td>\n",
       "      <td>3.26</td>\n",
       "      <td>0.36</td>\n",
       "      <td>9.1</td>\n",
       "      <td>5.0</td>\n",
       "    </tr>\n",
       "    <tr>\n",
       "      <th>2</th>\n",
       "      <td>7.0</td>\n",
       "      <td>0.19</td>\n",
       "      <td>0.33</td>\n",
       "      <td>6.3</td>\n",
       "      <td>0.032</td>\n",
       "      <td>42.0</td>\n",
       "      <td>127.0</td>\n",
       "      <td>0.99182</td>\n",
       "      <td>3.31</td>\n",
       "      <td>0.38</td>\n",
       "      <td>12.2</td>\n",
       "      <td>6.0</td>\n",
       "    </tr>\n",
       "    <tr>\n",
       "      <th>3</th>\n",
       "      <td>7.8</td>\n",
       "      <td>0.26</td>\n",
       "      <td>0.74</td>\n",
       "      <td>7.5</td>\n",
       "      <td>0.044</td>\n",
       "      <td>59.0</td>\n",
       "      <td>160.0</td>\n",
       "      <td>0.99600</td>\n",
       "      <td>3.22</td>\n",
       "      <td>0.64</td>\n",
       "      <td>10.0</td>\n",
       "      <td>6.0</td>\n",
       "    </tr>\n",
       "    <tr>\n",
       "      <th>4</th>\n",
       "      <td>6.0</td>\n",
       "      <td>0.19</td>\n",
       "      <td>0.37</td>\n",
       "      <td>9.7</td>\n",
       "      <td>0.032</td>\n",
       "      <td>17.0</td>\n",
       "      <td>50.0</td>\n",
       "      <td>0.99320</td>\n",
       "      <td>3.08</td>\n",
       "      <td>0.66</td>\n",
       "      <td>12.0</td>\n",
       "      <td>6.0</td>\n",
       "    </tr>\n",
       "  </tbody>\n",
       "</table>\n",
       "</div>"
      ],
      "text/plain": [
       "   fixed acidity  volatile acidity  citric acid  residual sugar  chlorides  \\\n",
       "0            6.9              0.56         0.26            10.9      0.060   \n",
       "1            7.4              0.31         0.26             8.6      0.048   \n",
       "2            7.0              0.19         0.33             6.3      0.032   \n",
       "3            7.8              0.26         0.74             7.5      0.044   \n",
       "4            6.0              0.19         0.37             9.7      0.032   \n",
       "\n",
       "   free sulfur dioxide  total sulfur dioxide  density    pH  sulphates  \\\n",
       "0                 55.0                 193.0  0.99690  3.21       0.44   \n",
       "1                 47.0                 206.0  0.99640  3.26       0.36   \n",
       "2                 42.0                 127.0  0.99182  3.31       0.38   \n",
       "3                 59.0                 160.0  0.99600  3.22       0.64   \n",
       "4                 17.0                  50.0  0.99320  3.08       0.66   \n",
       "\n",
       "   alcohol  quality  \n",
       "0      9.4      5.0  \n",
       "1      9.1      5.0  \n",
       "2     12.2      6.0  \n",
       "3     10.0      6.0  \n",
       "4     12.0      6.0  "
      ]
     },
     "execution_count": 11,
     "metadata": {},
     "output_type": "execute_result"
    }
   ],
   "source": [
    "df.head()"
   ]
  },
  {
   "cell_type": "code",
   "execution_count": 12,
   "metadata": {
    "pycharm": {
     "name": "#%%\n"
    },
    "scrolled": true
   },
   "outputs": [
    {
     "data": {
      "text/html": [
       "<div>\n",
       "<style scoped>\n",
       "    .dataframe tbody tr th:only-of-type {\n",
       "        vertical-align: middle;\n",
       "    }\n",
       "\n",
       "    .dataframe tbody tr th {\n",
       "        vertical-align: top;\n",
       "    }\n",
       "\n",
       "    .dataframe thead th {\n",
       "        text-align: right;\n",
       "    }\n",
       "</style>\n",
       "<table border=\"1\" class=\"dataframe\">\n",
       "  <thead>\n",
       "    <tr style=\"text-align: right;\">\n",
       "      <th></th>\n",
       "      <th>fixed acidity</th>\n",
       "      <th>volatile acidity</th>\n",
       "      <th>citric acid</th>\n",
       "      <th>residual sugar</th>\n",
       "      <th>chlorides</th>\n",
       "      <th>free sulfur dioxide</th>\n",
       "      <th>total sulfur dioxide</th>\n",
       "      <th>density</th>\n",
       "      <th>pH</th>\n",
       "      <th>sulphates</th>\n",
       "      <th>alcohol</th>\n",
       "      <th>quality</th>\n",
       "    </tr>\n",
       "  </thead>\n",
       "  <tbody>\n",
       "    <tr>\n",
       "      <th>count</th>\n",
       "      <td>4898.000000</td>\n",
       "      <td>4898.000000</td>\n",
       "      <td>4898.000000</td>\n",
       "      <td>4898.000000</td>\n",
       "      <td>4898.000000</td>\n",
       "      <td>4898.000000</td>\n",
       "      <td>4898.000000</td>\n",
       "      <td>4898.000000</td>\n",
       "      <td>4898.000000</td>\n",
       "      <td>4898.000000</td>\n",
       "      <td>4898.000000</td>\n",
       "      <td>4898.000000</td>\n",
       "    </tr>\n",
       "    <tr>\n",
       "      <th>mean</th>\n",
       "      <td>6.854788</td>\n",
       "      <td>0.278241</td>\n",
       "      <td>0.334192</td>\n",
       "      <td>6.391415</td>\n",
       "      <td>0.045772</td>\n",
       "      <td>35.308085</td>\n",
       "      <td>138.360657</td>\n",
       "      <td>0.994027</td>\n",
       "      <td>3.188267</td>\n",
       "      <td>0.489847</td>\n",
       "      <td>10.514267</td>\n",
       "      <td>5.877909</td>\n",
       "    </tr>\n",
       "    <tr>\n",
       "      <th>std</th>\n",
       "      <td>0.843868</td>\n",
       "      <td>0.100795</td>\n",
       "      <td>0.121020</td>\n",
       "      <td>5.072058</td>\n",
       "      <td>0.021848</td>\n",
       "      <td>17.007137</td>\n",
       "      <td>42.498065</td>\n",
       "      <td>0.002991</td>\n",
       "      <td>0.151001</td>\n",
       "      <td>0.114126</td>\n",
       "      <td>1.230621</td>\n",
       "      <td>0.885639</td>\n",
       "    </tr>\n",
       "    <tr>\n",
       "      <th>min</th>\n",
       "      <td>3.800000</td>\n",
       "      <td>0.080000</td>\n",
       "      <td>0.000000</td>\n",
       "      <td>0.600000</td>\n",
       "      <td>0.009000</td>\n",
       "      <td>2.000000</td>\n",
       "      <td>9.000000</td>\n",
       "      <td>0.987110</td>\n",
       "      <td>2.720000</td>\n",
       "      <td>0.220000</td>\n",
       "      <td>8.000000</td>\n",
       "      <td>3.000000</td>\n",
       "    </tr>\n",
       "    <tr>\n",
       "      <th>25%</th>\n",
       "      <td>6.300000</td>\n",
       "      <td>0.210000</td>\n",
       "      <td>0.270000</td>\n",
       "      <td>1.700000</td>\n",
       "      <td>0.036000</td>\n",
       "      <td>23.000000</td>\n",
       "      <td>108.000000</td>\n",
       "      <td>0.991723</td>\n",
       "      <td>3.090000</td>\n",
       "      <td>0.410000</td>\n",
       "      <td>9.500000</td>\n",
       "      <td>5.000000</td>\n",
       "    </tr>\n",
       "    <tr>\n",
       "      <th>50%</th>\n",
       "      <td>6.800000</td>\n",
       "      <td>0.260000</td>\n",
       "      <td>0.320000</td>\n",
       "      <td>5.200000</td>\n",
       "      <td>0.043000</td>\n",
       "      <td>34.000000</td>\n",
       "      <td>134.000000</td>\n",
       "      <td>0.993740</td>\n",
       "      <td>3.180000</td>\n",
       "      <td>0.470000</td>\n",
       "      <td>10.400000</td>\n",
       "      <td>6.000000</td>\n",
       "    </tr>\n",
       "    <tr>\n",
       "      <th>75%</th>\n",
       "      <td>7.300000</td>\n",
       "      <td>0.320000</td>\n",
       "      <td>0.390000</td>\n",
       "      <td>9.900000</td>\n",
       "      <td>0.050000</td>\n",
       "      <td>46.000000</td>\n",
       "      <td>167.000000</td>\n",
       "      <td>0.996100</td>\n",
       "      <td>3.280000</td>\n",
       "      <td>0.550000</td>\n",
       "      <td>11.400000</td>\n",
       "      <td>6.000000</td>\n",
       "    </tr>\n",
       "    <tr>\n",
       "      <th>max</th>\n",
       "      <td>14.200000</td>\n",
       "      <td>1.100000</td>\n",
       "      <td>1.660000</td>\n",
       "      <td>65.800000</td>\n",
       "      <td>0.346000</td>\n",
       "      <td>289.000000</td>\n",
       "      <td>440.000000</td>\n",
       "      <td>1.038980</td>\n",
       "      <td>3.820000</td>\n",
       "      <td>1.080000</td>\n",
       "      <td>14.200000</td>\n",
       "      <td>9.000000</td>\n",
       "    </tr>\n",
       "  </tbody>\n",
       "</table>\n",
       "</div>"
      ],
      "text/plain": [
       "       fixed acidity  volatile acidity  citric acid  residual sugar  \\\n",
       "count    4898.000000       4898.000000  4898.000000     4898.000000   \n",
       "mean        6.854788          0.278241     0.334192        6.391415   \n",
       "std         0.843868          0.100795     0.121020        5.072058   \n",
       "min         3.800000          0.080000     0.000000        0.600000   \n",
       "25%         6.300000          0.210000     0.270000        1.700000   \n",
       "50%         6.800000          0.260000     0.320000        5.200000   \n",
       "75%         7.300000          0.320000     0.390000        9.900000   \n",
       "max        14.200000          1.100000     1.660000       65.800000   \n",
       "\n",
       "         chlorides  free sulfur dioxide  total sulfur dioxide      density  \\\n",
       "count  4898.000000          4898.000000           4898.000000  4898.000000   \n",
       "mean      0.045772            35.308085            138.360657     0.994027   \n",
       "std       0.021848            17.007137             42.498065     0.002991   \n",
       "min       0.009000             2.000000              9.000000     0.987110   \n",
       "25%       0.036000            23.000000            108.000000     0.991723   \n",
       "50%       0.043000            34.000000            134.000000     0.993740   \n",
       "75%       0.050000            46.000000            167.000000     0.996100   \n",
       "max       0.346000           289.000000            440.000000     1.038980   \n",
       "\n",
       "                pH    sulphates      alcohol      quality  \n",
       "count  4898.000000  4898.000000  4898.000000  4898.000000  \n",
       "mean      3.188267     0.489847    10.514267     5.877909  \n",
       "std       0.151001     0.114126     1.230621     0.885639  \n",
       "min       2.720000     0.220000     8.000000     3.000000  \n",
       "25%       3.090000     0.410000     9.500000     5.000000  \n",
       "50%       3.180000     0.470000    10.400000     6.000000  \n",
       "75%       3.280000     0.550000    11.400000     6.000000  \n",
       "max       3.820000     1.080000    14.200000     9.000000  "
      ]
     },
     "execution_count": 12,
     "metadata": {},
     "output_type": "execute_result"
    }
   ],
   "source": [
    "df.describe()"
   ]
  },
  {
   "cell_type": "code",
   "execution_count": 13,
   "metadata": {
    "pycharm": {
     "name": "#%%\n"
    },
    "scrolled": true
   },
   "outputs": [
    {
     "name": "stdout",
     "output_type": "stream",
     "text": [
      "<class 'pandas.core.frame.DataFrame'>\n",
      "RangeIndex: 4898 entries, 0 to 4897\n",
      "Data columns (total 12 columns):\n",
      " #   Column                Non-Null Count  Dtype  \n",
      "---  ------                --------------  -----  \n",
      " 0   fixed acidity         4898 non-null   float64\n",
      " 1   volatile acidity      4898 non-null   float64\n",
      " 2   citric acid           4898 non-null   float64\n",
      " 3   residual sugar        4898 non-null   float64\n",
      " 4   chlorides             4898 non-null   float64\n",
      " 5   free sulfur dioxide   4898 non-null   float64\n",
      " 6   total sulfur dioxide  4898 non-null   float64\n",
      " 7   density               4898 non-null   float64\n",
      " 8   pH                    4898 non-null   float64\n",
      " 9   sulphates             4898 non-null   float64\n",
      " 10  alcohol               4898 non-null   float64\n",
      " 11  quality               4898 non-null   float64\n",
      "dtypes: float64(12)\n",
      "memory usage: 459.3 KB\n"
     ]
    }
   ],
   "source": [
    "df.info()"
   ]
  },
  {
   "cell_type": "code",
   "execution_count": 14,
   "metadata": {
    "pycharm": {
     "name": "#%%\n"
    }
   },
   "outputs": [
    {
     "data": {
      "text/plain": [
       "fixed acidity           0\n",
       "volatile acidity        0\n",
       "citric acid             0\n",
       "residual sugar          0\n",
       "chlorides               0\n",
       "free sulfur dioxide     0\n",
       "total sulfur dioxide    0\n",
       "density                 0\n",
       "pH                      0\n",
       "sulphates               0\n",
       "alcohol                 0\n",
       "quality                 0\n",
       "dtype: int64"
      ]
     },
     "execution_count": 14,
     "metadata": {},
     "output_type": "execute_result"
    }
   ],
   "source": [
    "df.isnull().sum()"
   ]
  },
  {
   "cell_type": "markdown",
   "metadata": {
    "pycharm": {
     "name": "#%% md\n"
    }
   },
   "source": [
    "Dataset does not have any null."
   ]
  },
  {
   "cell_type": "markdown",
   "metadata": {
    "pycharm": {
     "name": "#%% md\n"
    }
   },
   "source": [
    "## Data visualization"
   ]
  },
  {
   "cell_type": "code",
   "execution_count": 15,
   "metadata": {
    "pycharm": {
     "name": "#%%\n"
    }
   },
   "outputs": [
    {
     "data": {
      "image/png": "[encoded data removed]",
      "text/plain": [
       "<Figure size 720x720 with 12 Axes>"
      ]
     },
     "metadata": {
      "needs_background": "light"
     },
     "output_type": "display_data"
    }
   ],
   "source": [
    "df.hist(bins=20,figsize=(10,10))\n",
    "plt.show()"
   ]
  },
  {
   "cell_type": "markdown",
   "metadata": {
    "pycharm": {
     "name": "#%% md\n"
    }
   },
   "source": [
    "Let's check how the quality of wine change by alcohol."
   ]
  },
  {
   "cell_type": "code",
   "execution_count": 16,
   "metadata": {
    "pycharm": {
     "name": "#%%\n"
    }
   },
   "outputs": [
    {
     "data": {
      "image/png": "[encoded data removed]",
      "text/plain": [
       "<Figure size 360x360 with 1 Axes>"
      ]
     },
     "metadata": {
      "needs_background": "light"
     },
     "output_type": "display_data"
    }
   ],
   "source": [
    "plt.figure(figsize=[5,5])\n",
    "plt.bar(df['quality'],df['alcohol'])\n",
    "plt.xlabel('quality')\n",
    "plt.ylabel('alcohol')\n",
    "plt.show()"
   ]
  },
  {
   "cell_type": "code",
   "execution_count": 17,
   "metadata": {
    "pycharm": {
     "name": "#%%\n"
    }
   },
   "outputs": [
    {
     "data": {
      "image/png": "[encoded data removed]",
      "text/plain": [
       "<Figure size 1440x720 with 2 Axes>"
      ]
     },
     "metadata": {
      "needs_background": "light"
     },
     "output_type": "display_data"
    }
   ],
   "source": [
    "# correlation by visualization\n",
    "plt.figure(figsize=[20,10])\n",
    "# plot correlation\n",
    "sb.heatmap(df.corr(),annot=True)\n",
    "plt.show()"
   ]
  },
  {
   "cell_type": "code",
   "execution_count": 18,
   "metadata": {
    "pycharm": {
     "name": "#%%\n"
    },
    "scrolled": false
   },
   "outputs": [
    {
     "data": {
      "text/html": [
       "<div>\n",
       "<style scoped>\n",
       "    .dataframe tbody tr th:only-of-type {\n",
       "        vertical-align: middle;\n",
       "    }\n",
       "\n",
       "    .dataframe tbody tr th {\n",
       "        vertical-align: top;\n",
       "    }\n",
       "\n",
       "    .dataframe thead th {\n",
       "        text-align: right;\n",
       "    }\n",
       "</style>\n",
       "<table border=\"1\" class=\"dataframe\">\n",
       "  <thead>\n",
       "    <tr style=\"text-align: right;\">\n",
       "      <th></th>\n",
       "      <th>fixed acidity</th>\n",
       "      <th>volatile acidity</th>\n",
       "      <th>citric acid</th>\n",
       "      <th>residual sugar</th>\n",
       "      <th>chlorides</th>\n",
       "      <th>free sulfur dioxide</th>\n",
       "      <th>total sulfur dioxide</th>\n",
       "      <th>density</th>\n",
       "      <th>pH</th>\n",
       "      <th>sulphates</th>\n",
       "      <th>alcohol</th>\n",
       "      <th>quality</th>\n",
       "    </tr>\n",
       "  </thead>\n",
       "  <tbody>\n",
       "    <tr>\n",
       "      <th>fixed acidity</th>\n",
       "      <td>1.000000</td>\n",
       "      <td>-0.022697</td>\n",
       "      <td>0.289181</td>\n",
       "      <td>0.089021</td>\n",
       "      <td>0.023086</td>\n",
       "      <td>-0.049396</td>\n",
       "      <td>0.091070</td>\n",
       "      <td>0.265331</td>\n",
       "      <td>-0.425858</td>\n",
       "      <td>-0.017143</td>\n",
       "      <td>-0.120881</td>\n",
       "      <td>-0.113663</td>\n",
       "    </tr>\n",
       "    <tr>\n",
       "      <th>volatile acidity</th>\n",
       "      <td>-0.022697</td>\n",
       "      <td>1.000000</td>\n",
       "      <td>-0.149472</td>\n",
       "      <td>0.064286</td>\n",
       "      <td>0.070512</td>\n",
       "      <td>-0.097012</td>\n",
       "      <td>0.089261</td>\n",
       "      <td>0.027114</td>\n",
       "      <td>-0.031915</td>\n",
       "      <td>-0.035728</td>\n",
       "      <td>0.067718</td>\n",
       "      <td>-0.194723</td>\n",
       "    </tr>\n",
       "    <tr>\n",
       "      <th>citric acid</th>\n",
       "      <td>0.289181</td>\n",
       "      <td>-0.149472</td>\n",
       "      <td>1.000000</td>\n",
       "      <td>0.094212</td>\n",
       "      <td>0.114364</td>\n",
       "      <td>0.094077</td>\n",
       "      <td>0.121131</td>\n",
       "      <td>0.149503</td>\n",
       "      <td>-0.163748</td>\n",
       "      <td>0.062331</td>\n",
       "      <td>-0.075729</td>\n",
       "      <td>-0.009209</td>\n",
       "    </tr>\n",
       "    <tr>\n",
       "      <th>residual sugar</th>\n",
       "      <td>0.089021</td>\n",
       "      <td>0.064286</td>\n",
       "      <td>0.094212</td>\n",
       "      <td>1.000000</td>\n",
       "      <td>0.088685</td>\n",
       "      <td>0.299098</td>\n",
       "      <td>0.401439</td>\n",
       "      <td>0.838966</td>\n",
       "      <td>-0.194133</td>\n",
       "      <td>-0.026664</td>\n",
       "      <td>-0.450631</td>\n",
       "      <td>-0.097577</td>\n",
       "    </tr>\n",
       "    <tr>\n",
       "      <th>chlorides</th>\n",
       "      <td>0.023086</td>\n",
       "      <td>0.070512</td>\n",
       "      <td>0.114364</td>\n",
       "      <td>0.088685</td>\n",
       "      <td>1.000000</td>\n",
       "      <td>0.101392</td>\n",
       "      <td>0.198910</td>\n",
       "      <td>0.257211</td>\n",
       "      <td>-0.090439</td>\n",
       "      <td>0.016763</td>\n",
       "      <td>-0.360189</td>\n",
       "      <td>-0.209934</td>\n",
       "    </tr>\n",
       "    <tr>\n",
       "      <th>free sulfur dioxide</th>\n",
       "      <td>-0.049396</td>\n",
       "      <td>-0.097012</td>\n",
       "      <td>0.094077</td>\n",
       "      <td>0.299098</td>\n",
       "      <td>0.101392</td>\n",
       "      <td>1.000000</td>\n",
       "      <td>0.615501</td>\n",
       "      <td>0.294210</td>\n",
       "      <td>-0.000618</td>\n",
       "      <td>0.059217</td>\n",
       "      <td>-0.250104</td>\n",
       "      <td>0.008158</td>\n",
       "    </tr>\n",
       "    <tr>\n",
       "      <th>total sulfur dioxide</th>\n",
       "      <td>0.091070</td>\n",
       "      <td>0.089261</td>\n",
       "      <td>0.121131</td>\n",
       "      <td>0.401439</td>\n",
       "      <td>0.198910</td>\n",
       "      <td>0.615501</td>\n",
       "      <td>1.000000</td>\n",
       "      <td>0.529881</td>\n",
       "      <td>0.002321</td>\n",
       "      <td>0.134562</td>\n",
       "      <td>-0.448892</td>\n",
       "      <td>-0.174737</td>\n",
       "    </tr>\n",
       "    <tr>\n",
       "      <th>density</th>\n",
       "      <td>0.265331</td>\n",
       "      <td>0.027114</td>\n",
       "      <td>0.149503</td>\n",
       "      <td>0.838966</td>\n",
       "      <td>0.257211</td>\n",
       "      <td>0.294210</td>\n",
       "      <td>0.529881</td>\n",
       "      <td>1.000000</td>\n",
       "      <td>-0.093591</td>\n",
       "      <td>0.074493</td>\n",
       "      <td>-0.780138</td>\n",
       "      <td>-0.307123</td>\n",
       "    </tr>\n",
       "    <tr>\n",
       "      <th>pH</th>\n",
       "      <td>-0.425858</td>\n",
       "      <td>-0.031915</td>\n",
       "      <td>-0.163748</td>\n",
       "      <td>-0.194133</td>\n",
       "      <td>-0.090439</td>\n",
       "      <td>-0.000618</td>\n",
       "      <td>0.002321</td>\n",
       "      <td>-0.093591</td>\n",
       "      <td>1.000000</td>\n",
       "      <td>0.155951</td>\n",
       "      <td>0.121432</td>\n",
       "      <td>0.099427</td>\n",
       "    </tr>\n",
       "    <tr>\n",
       "      <th>sulphates</th>\n",
       "      <td>-0.017143</td>\n",
       "      <td>-0.035728</td>\n",
       "      <td>0.062331</td>\n",
       "      <td>-0.026664</td>\n",
       "      <td>0.016763</td>\n",
       "      <td>0.059217</td>\n",
       "      <td>0.134562</td>\n",
       "      <td>0.074493</td>\n",
       "      <td>0.155951</td>\n",
       "      <td>1.000000</td>\n",
       "      <td>-0.017433</td>\n",
       "      <td>0.053678</td>\n",
       "    </tr>\n",
       "    <tr>\n",
       "      <th>alcohol</th>\n",
       "      <td>-0.120881</td>\n",
       "      <td>0.067718</td>\n",
       "      <td>-0.075729</td>\n",
       "      <td>-0.450631</td>\n",
       "      <td>-0.360189</td>\n",
       "      <td>-0.250104</td>\n",
       "      <td>-0.448892</td>\n",
       "      <td>-0.780138</td>\n",
       "      <td>0.121432</td>\n",
       "      <td>-0.017433</td>\n",
       "      <td>1.000000</td>\n",
       "      <td>0.435575</td>\n",
       "    </tr>\n",
       "    <tr>\n",
       "      <th>quality</th>\n",
       "      <td>-0.113663</td>\n",
       "      <td>-0.194723</td>\n",
       "      <td>-0.009209</td>\n",
       "      <td>-0.097577</td>\n",
       "      <td>-0.209934</td>\n",
       "      <td>0.008158</td>\n",
       "      <td>-0.174737</td>\n",
       "      <td>-0.307123</td>\n",
       "      <td>0.099427</td>\n",
       "      <td>0.053678</td>\n",
       "      <td>0.435575</td>\n",
       "      <td>1.000000</td>\n",
       "    </tr>\n",
       "  </tbody>\n",
       "</table>\n",
       "</div>"
      ],
      "text/plain": [
       "                      fixed acidity  volatile acidity  citric acid  \\\n",
       "fixed acidity              1.000000         -0.022697     0.289181   \n",
       "volatile acidity          -0.022697          1.000000    -0.149472   \n",
       "citric acid                0.289181         -0.149472     1.000000   \n",
       "residual sugar             0.089021          0.064286     0.094212   \n",
       "chlorides                  0.023086          0.070512     0.114364   \n",
       "free sulfur dioxide       -0.049396         -0.097012     0.094077   \n",
       "total sulfur dioxide       0.091070          0.089261     0.121131   \n",
       "density                    0.265331          0.027114     0.149503   \n",
       "pH                        -0.425858         -0.031915    -0.163748   \n",
       "sulphates                 -0.017143         -0.035728     0.062331   \n",
       "alcohol                   -0.120881          0.067718    -0.075729   \n",
       "quality                   -0.113663         -0.194723    -0.009209   \n",
       "\n",
       "                      residual sugar  chlorides  free sulfur dioxide  \\\n",
       "fixed acidity               0.089021   0.023086            -0.049396   \n",
       "volatile acidity            0.064286   0.070512            -0.097012   \n",
       "citric acid                 0.094212   0.114364             0.094077   \n",
       "residual sugar              1.000000   0.088685             0.299098   \n",
       "chlorides                   0.088685   1.000000             0.101392   \n",
       "free sulfur dioxide         0.299098   0.101392             1.000000   \n",
       "total sulfur dioxide        0.401439   0.198910             0.615501   \n",
       "density                     0.838966   0.257211             0.294210   \n",
       "pH                         -0.194133  -0.090439            -0.000618   \n",
       "sulphates                  -0.026664   0.016763             0.059217   \n",
       "alcohol                    -0.450631  -0.360189            -0.250104   \n",
       "quality                    -0.097577  -0.209934             0.008158   \n",
       "\n",
       "                      total sulfur dioxide   density        pH  sulphates  \\\n",
       "fixed acidity                     0.091070  0.265331 -0.425858  -0.017143   \n",
       "volatile acidity                  0.089261  0.027114 -0.031915  -0.035728   \n",
       "citric acid                       0.121131  0.149503 -0.163748   0.062331   \n",
       "residual sugar                    0.401439  0.838966 -0.194133  -0.026664   \n",
       "chlorides                         0.198910  0.257211 -0.090439   0.016763   \n",
       "free sulfur dioxide               0.615501  0.294210 -0.000618   0.059217   \n",
       "total sulfur dioxide              1.000000  0.529881  0.002321   0.134562   \n",
       "density                           0.529881  1.000000 -0.093591   0.074493   \n",
       "pH                                0.002321 -0.093591  1.000000   0.155951   \n",
       "sulphates                         0.134562  0.074493  0.155951   1.000000   \n",
       "alcohol                          -0.448892 -0.780138  0.121432  -0.017433   \n",
       "quality                          -0.174737 -0.307123  0.099427   0.053678   \n",
       "\n",
       "                       alcohol   quality  \n",
       "fixed acidity        -0.120881 -0.113663  \n",
       "volatile acidity      0.067718 -0.194723  \n",
       "citric acid          -0.075729 -0.009209  \n",
       "residual sugar       -0.450631 -0.097577  \n",
       "chlorides            -0.360189 -0.209934  \n",
       "free sulfur dioxide  -0.250104  0.008158  \n",
       "total sulfur dioxide -0.448892 -0.174737  \n",
       "density              -0.780138 -0.307123  \n",
       "pH                    0.121432  0.099427  \n",
       "sulphates            -0.017433  0.053678  \n",
       "alcohol               1.000000  0.435575  \n",
       "quality               0.435575  1.000000  "
      ]
     },
     "execution_count": 18,
     "metadata": {},
     "output_type": "execute_result"
    }
   ],
   "source": [
    "df.corr(method='pearson',min_periods=1)"
   ]
  },
  {
   "cell_type": "code",
   "execution_count": 19,
   "metadata": {
    "pycharm": {
     "name": "#%%\n"
    }
   },
   "outputs": [
    {
     "data": {
      "text/plain": [
       "Index(['fixed acidity', 'volatile acidity', 'citric acid', 'residual sugar',\n",
       "       'chlorides', 'free sulfur dioxide', 'total sulfur dioxide', 'density',\n",
       "       'pH', 'sulphates', 'alcohol'],\n",
       "      dtype='object')"
      ]
     },
     "execution_count": 19,
     "metadata": {},
     "output_type": "execute_result"
    }
   ],
   "source": [
    "# features and target\n",
    "X = df.drop(['quality'],axis=1)\n",
    "\n",
    "Y = df['quality']\n",
    "X.columns"
   ]
  },
  {
   "cell_type": "code",
   "execution_count": 20,
   "metadata": {
    "pycharm": {
     "name": "#%%\n"
    }
   },
   "outputs": [
    {
     "data": {
      "text/html": [
       "<div>\n",
       "<style scoped>\n",
       "    .dataframe tbody tr th:only-of-type {\n",
       "        vertical-align: middle;\n",
       "    }\n",
       "\n",
       "    .dataframe tbody tr th {\n",
       "        vertical-align: top;\n",
       "    }\n",
       "\n",
       "    .dataframe thead th {\n",
       "        text-align: right;\n",
       "    }\n",
       "</style>\n",
       "<table border=\"1\" class=\"dataframe\">\n",
       "  <thead>\n",
       "    <tr style=\"text-align: right;\">\n",
       "      <th></th>\n",
       "      <th>fixed acidity</th>\n",
       "      <th>volatile acidity</th>\n",
       "      <th>citric acid</th>\n",
       "      <th>residual sugar</th>\n",
       "      <th>chlorides</th>\n",
       "      <th>free sulfur dioxide</th>\n",
       "      <th>total sulfur dioxide</th>\n",
       "      <th>density</th>\n",
       "      <th>pH</th>\n",
       "      <th>sulphates</th>\n",
       "      <th>alcohol</th>\n",
       "    </tr>\n",
       "  </thead>\n",
       "  <tbody>\n",
       "    <tr>\n",
       "      <th>0</th>\n",
       "      <td>0.053583</td>\n",
       "      <td>2.795664</td>\n",
       "      <td>-0.613115</td>\n",
       "      <td>0.888997</td>\n",
       "      <td>0.651278</td>\n",
       "      <td>1.157980</td>\n",
       "      <td>1.285821</td>\n",
       "      <td>0.960550</td>\n",
       "      <td>0.143944</td>\n",
       "      <td>-0.436816</td>\n",
       "      <td>-0.905544</td>\n",
       "    </tr>\n",
       "    <tr>\n",
       "      <th>1</th>\n",
       "      <td>0.646153</td>\n",
       "      <td>0.315117</td>\n",
       "      <td>-0.613115</td>\n",
       "      <td>0.435486</td>\n",
       "      <td>0.101972</td>\n",
       "      <td>0.687541</td>\n",
       "      <td>1.591749</td>\n",
       "      <td>0.793360</td>\n",
       "      <td>0.475102</td>\n",
       "      <td>-1.137868</td>\n",
       "      <td>-1.149348</td>\n",
       "    </tr>\n",
       "    <tr>\n",
       "      <th>2</th>\n",
       "      <td>0.172097</td>\n",
       "      <td>-0.875545</td>\n",
       "      <td>-0.034638</td>\n",
       "      <td>-0.018025</td>\n",
       "      <td>-0.630437</td>\n",
       "      <td>0.393517</td>\n",
       "      <td>-0.267349</td>\n",
       "      <td>-0.738104</td>\n",
       "      <td>0.806260</td>\n",
       "      <td>-0.962605</td>\n",
       "      <td>1.369963</td>\n",
       "    </tr>\n",
       "    <tr>\n",
       "      <th>3</th>\n",
       "      <td>1.120209</td>\n",
       "      <td>-0.180992</td>\n",
       "      <td>3.353583</td>\n",
       "      <td>0.218589</td>\n",
       "      <td>-0.081131</td>\n",
       "      <td>1.393199</td>\n",
       "      <td>0.509236</td>\n",
       "      <td>0.659608</td>\n",
       "      <td>0.210175</td>\n",
       "      <td>1.315815</td>\n",
       "      <td>-0.417935</td>\n",
       "    </tr>\n",
       "    <tr>\n",
       "      <th>4</th>\n",
       "      <td>-1.013043</td>\n",
       "      <td>-0.875545</td>\n",
       "      <td>0.295920</td>\n",
       "      <td>0.652383</td>\n",
       "      <td>-0.630437</td>\n",
       "      <td>-1.076604</td>\n",
       "      <td>-2.079381</td>\n",
       "      <td>-0.276659</td>\n",
       "      <td>-0.717068</td>\n",
       "      <td>1.491078</td>\n",
       "      <td>1.207427</td>\n",
       "    </tr>\n",
       "    <tr>\n",
       "      <th>5</th>\n",
       "      <td>1.001695</td>\n",
       "      <td>-0.974766</td>\n",
       "      <td>-0.282557</td>\n",
       "      <td>-1.023637</td>\n",
       "      <td>0.010421</td>\n",
       "      <td>0.805151</td>\n",
       "      <td>1.427019</td>\n",
       "      <td>0.034315</td>\n",
       "      <td>-1.048226</td>\n",
       "      <td>-0.962605</td>\n",
       "      <td>-0.986812</td>\n",
       "    </tr>\n",
       "    <tr>\n",
       "      <th>6</th>\n",
       "      <td>-0.657501</td>\n",
       "      <td>0.612783</td>\n",
       "      <td>-0.447836</td>\n",
       "      <td>1.638277</td>\n",
       "      <td>0.056196</td>\n",
       "      <td>0.805151</td>\n",
       "      <td>1.403486</td>\n",
       "      <td>1.228055</td>\n",
       "      <td>0.276407</td>\n",
       "      <td>-0.261553</td>\n",
       "      <td>-0.824276</td>\n",
       "    </tr>\n",
       "    <tr>\n",
       "      <th>7</th>\n",
       "      <td>-0.420473</td>\n",
       "      <td>-0.677101</td>\n",
       "      <td>0.130641</td>\n",
       "      <td>-0.136332</td>\n",
       "      <td>-0.126906</td>\n",
       "      <td>0.687541</td>\n",
       "      <td>1.379953</td>\n",
       "      <td>-0.035905</td>\n",
       "      <td>0.342639</td>\n",
       "      <td>0.088973</td>\n",
       "      <td>-0.336667</td>\n",
       "    </tr>\n",
       "    <tr>\n",
       "      <th>8</th>\n",
       "      <td>0.883181</td>\n",
       "      <td>0.215896</td>\n",
       "      <td>-0.943673</td>\n",
       "      <td>0.750972</td>\n",
       "      <td>0.147747</td>\n",
       "      <td>1.275590</td>\n",
       "      <td>1.238756</td>\n",
       "      <td>0.860236</td>\n",
       "      <td>-0.717068</td>\n",
       "      <td>-0.787342</td>\n",
       "      <td>-0.986812</td>\n",
       "    </tr>\n",
       "    <tr>\n",
       "      <th>9</th>\n",
       "      <td>-0.064931</td>\n",
       "      <td>-0.677101</td>\n",
       "      <td>-0.199917</td>\n",
       "      <td>-0.688433</td>\n",
       "      <td>0.010421</td>\n",
       "      <td>0.275907</td>\n",
       "      <td>-0.408546</td>\n",
       "      <td>-0.911983</td>\n",
       "      <td>-0.783300</td>\n",
       "      <td>1.403446</td>\n",
       "      <td>0.313478</td>\n",
       "    </tr>\n",
       "  </tbody>\n",
       "</table>\n",
       "</div>"
      ],
      "text/plain": [
       "   fixed acidity  volatile acidity  citric acid  residual sugar  chlorides  \\\n",
       "0       0.053583          2.795664    -0.613115        0.888997   0.651278   \n",
       "1       0.646153          0.315117    -0.613115        0.435486   0.101972   \n",
       "2       0.172097         -0.875545    -0.034638       -0.018025  -0.630437   \n",
       "3       1.120209         -0.180992     3.353583        0.218589  -0.081131   \n",
       "4      -1.013043         -0.875545     0.295920        0.652383  -0.630437   \n",
       "5       1.001695         -0.974766    -0.282557       -1.023637   0.010421   \n",
       "6      -0.657501          0.612783    -0.447836        1.638277   0.056196   \n",
       "7      -0.420473         -0.677101     0.130641       -0.136332  -0.126906   \n",
       "8       0.883181          0.215896    -0.943673        0.750972   0.147747   \n",
       "9      -0.064931         -0.677101    -0.199917       -0.688433   0.010421   \n",
       "\n",
       "   free sulfur dioxide  total sulfur dioxide   density        pH  sulphates  \\\n",
       "0             1.157980              1.285821  0.960550  0.143944  -0.436816   \n",
       "1             0.687541              1.591749  0.793360  0.475102  -1.137868   \n",
       "2             0.393517             -0.267349 -0.738104  0.806260  -0.962605   \n",
       "3             1.393199              0.509236  0.659608  0.210175   1.315815   \n",
       "4            -1.076604             -2.079381 -0.276659 -0.717068   1.491078   \n",
       "5             0.805151              1.427019  0.034315 -1.048226  -0.962605   \n",
       "6             0.805151              1.403486  1.228055  0.276407  -0.261553   \n",
       "7             0.687541              1.379953 -0.035905  0.342639   0.088973   \n",
       "8             1.275590              1.238756  0.860236 -0.717068  -0.787342   \n",
       "9             0.275907             -0.408546 -0.911983 -0.783300   1.403446   \n",
       "\n",
       "    alcohol  \n",
       "0 -0.905544  \n",
       "1 -1.149348  \n",
       "2  1.369963  \n",
       "3 -0.417935  \n",
       "4  1.207427  \n",
       "5 -0.986812  \n",
       "6 -0.824276  \n",
       "7 -0.336667  \n",
       "8 -0.986812  \n",
       "9  0.313478  "
      ]
     },
     "execution_count": 20,
     "metadata": {},
     "output_type": "execute_result"
    }
   ],
   "source": [
    "from sklearn.preprocessing import StandardScaler\n",
    "\n",
    "scaler = StandardScaler()\n",
    "\n",
    "X_scaled = scaler.fit_transform(X)\n",
    "\n",
    "X_scaled = pd.DataFrame(X_scaled, columns=X.columns)\n",
    "\n",
    "X_scaled.head(10)"
   ]
  },
  {
   "cell_type": "markdown",
   "metadata": {
    "pycharm": {
     "name": "#%% md\n"
    }
   },
   "source": [
    "Split train set into random train and validation subsets."
   ]
  },
  {
   "cell_type": "code",
   "execution_count": 21,
   "metadata": {
    "pycharm": {
     "name": "#%%\n"
    },
    "scrolled": true
   },
   "outputs": [
    {
     "name": "stdout",
     "output_type": "stream",
     "text": [
      "No. of training examples: 3428\n",
      "No. of testing examples: 1470\n"
     ]
    }
   ],
   "source": [
    "from sklearn.model_selection import train_test_split\n",
    " \n",
    "# creating train test splits\n",
    "X_train, X_valid, Y_train, Y_valid = train_test_split(X_scaled, Y, train_size=0.7, test_size=0.3)\n",
    "\n",
    "print(f\"No. of training examples: {X_train.shape[0]}\")\n",
    "print(f\"No. of testing examples: {X_valid.shape[0]}\")"
   ]
  },
  {
   "cell_type": "code",
   "execution_count": 22,
   "metadata": {
    "pycharm": {
     "name": "#%%\n"
    }
   },
   "outputs": [
    {
     "data": {
      "text/plain": [
       "RandomForestClassifier()"
      ]
     },
     "execution_count": 22,
     "metadata": {},
     "output_type": "execute_result"
    }
   ],
   "source": [
    "from sklearn.ensemble import RandomForestClassifier\n",
    "\n",
    "model = RandomForestClassifier()\n",
    "model.fit(X_train, Y_train)"
   ]
  },
  {
   "cell_type": "code",
   "execution_count": 23,
   "metadata": {
    "pycharm": {
     "name": "#%%\n"
    }
   },
   "outputs": [],
   "source": [
    "Y_pre = model.predict(X_valid)"
   ]
  },
  {
   "cell_type": "markdown",
   "metadata": {
    "pycharm": {
     "name": "#%% md\n"
    }
   },
   "source": [
    "Check the accuracy of the prediction"
   ]
  },
  {
   "cell_type": "code",
   "execution_count": 24,
   "metadata": {
    "pycharm": {
     "name": "#%%\n"
    }
   },
   "outputs": [
    {
     "name": "stdout",
     "output_type": "stream",
     "text": [
      "mean squared error is 0.46530612244897956\n",
      "............................................\n",
      "root mean squared error is 0.6821335077893327\n"
     ]
    }
   ],
   "source": [
    "from sklearn.metrics import mean_squared_error\n",
    "MSE = mean_squared_error(Y_valid,Y_pre)\n",
    "RMSE = np.sqrt(MSE)\n",
    "\n",
    "print('mean squared error is',MSE)\n",
    " \n",
    "print('............................................')\n",
    " \n",
    "print('root mean squared error is',RMSE)"
   ]
  },
  {
   "cell_type": "markdown",
   "metadata": {
    "pycharm": {
     "name": "#%% md\n"
    }
   },
   "source": [
    "# 3) Neural network\n",
    "\n",
    "The goal here is the implementation of a simple neural network with one hidden layer using **gradiant descent**.\n",
    "\n",
    "Consider\n",
    "* One hidden layer between input and outpu layers,\n",
    "    * number of features: n_inputs\n",
    "    * number of neurons in hidden layer: hidden_nodes\n",
    "* Activation function,\n",
    "    * reLu activation function\n",
    "\n",
    "$$\\hat{y}=\\mathbf{W}^{\\prime} \\sigma(\\mathbf{W} \\vec{x}+\\vec{b})+b^{\\prime}$$"
   ]
  },
  {
   "cell_type": "markdown",
   "metadata": {
    "pycharm": {
     "name": "#%% md\n"
    }
   },
   "source": [
    "### Normalization:\n",
    "\n",
    "<details>\n",
    "    Before apply the neural network to get better results we normalize the input data.\n",
    "    We apply normalization manually."
   ]
  },
  {
   "cell_type": "code",
   "execution_count": 25,
   "metadata": {
    "pycharm": {
     "name": "#%%\n"
    }
   },
   "outputs": [
    {
     "name": "stdout",
     "output_type": "stream",
     "text": [
      "(12,)\n",
      "First example:\n",
      "Features: [ 0.05358295  2.79566358 -0.6131152   0.88899726  0.6512778   1.15798004\n",
      "  1.28582141  0.96055039  0.14394366 -0.43681578 -0.90554379]\n",
      "Quality: -0.9913739176034738\n"
     ]
    }
   ],
   "source": [
    "# mean value of each columns of data array by axis = 0\n",
    "mean = np.mean(data, axis=0)\n",
    "print(mean.shape)\n",
    "# standard deviation of each columns of data array\n",
    "std = np.std(data, axis = 0)\n",
    "\n",
    "# Normalized data:\n",
    "data = (data - mean)/std\n",
    "\n",
    "\n",
    "# determine train and test sets:\n",
    "X_train = data[:3000,:11]\n",
    "y_train = data[:3000,11]\n",
    "\n",
    "X_test = data[3000:,:11]\n",
    "y_test = data[3000:,11]\n",
    "\n",
    "print(\"First example:\")\n",
    "print(\"Features:\", X_train[0])\n",
    "print(\"Quality:\", y_train[0])"
   ]
  },
  {
   "cell_type": "markdown",
   "metadata": {
    "pycharm": {
     "name": "#%% md\n"
    }
   },
   "source": [
    "### Random initialization of weights\n",
    "\n",
    "<details>\n",
    "    Initialise weights with suitable random distributions:"
   ]
  },
  {
   "cell_type": "code",
   "execution_count": 26,
   "metadata": {
    "pycharm": {
     "name": "#%%\n"
    }
   },
   "outputs": [
    {
     "name": "stdout",
     "output_type": "stream",
     "text": [
      "(50, 11)\n"
     ]
    }
   ],
   "source": [
    "# number of nodes in the hidden layer\n",
    "hidden_nodes = 50\n",
    "# number of features\n",
    "n_inputs = 11\n",
    "\n",
    "# initialise\n",
    "W = np.random.randn(hidden_nodes,11)*np.sqrt(2./n_inputs)\n",
    "b = np.zeros(hidden_nodes)\n",
    "Wp = np.random.randn(hidden_nodes)*np.sqrt(2./hidden_nodes)\n",
    "bp = np.zeros(1)\n",
    "\n",
    "print(W.shape)"
   ]
  },
  {
   "cell_type": "markdown",
   "metadata": {
    "pycharm": {
     "name": "#%% md\n"
    }
   },
   "source": [
    "build a network\n",
    "* activation function: reLu\n",
    "we do not use written reLu function and write our own.\n",
    "* "
   ]
  },
  {
   "cell_type": "markdown",
   "metadata": {
    "pycharm": {
     "name": "#%% md\n"
    }
   },
   "source": [
    "### Activation function"
   ]
  },
  {
   "cell_type": "code",
   "execution_count": 27,
   "metadata": {
    "pycharm": {
     "name": "#%%\n"
    }
   },
   "outputs": [],
   "source": [
    "def relu(x):\n",
    "    return np.maximum(x,0)"
   ]
  },
  {
   "cell_type": "code",
   "execution_count": 28,
   "metadata": {
    "pycharm": {
     "name": "#%%\n"
    }
   },
   "outputs": [],
   "source": [
    "def nn(x,W,b,Wp,bp):\n",
    "    return np.dot(Wp,relu(np.dot(W,x)+b))+bp"
   ]
  },
  {
   "cell_type": "markdown",
   "metadata": {
    "pycharm": {
     "name": "#%% md\n"
    }
   },
   "source": [
    "Update weights using **gradiant descent**\n",
    "\n",
    "For the **regression** problem the loss function is the **mean squared error** between the prediction and the true label $y$:\n",
    "$$L=(\\hat{y}-y)^{2}$$\n",
    "\n",
    "Taking the partial derivatives - and diligently the applying chain rule - with respect to the different objects yields:\n",
    "\n",
    "\\begin{aligned}\n",
    "\\frac{\\partial L}{\\partial b^{\\prime}} &=2(\\hat{y}-y) \\\\\n",
    "\\frac{\\partial L}{\\partial \\mathbf{W}_{k}^{\\prime}} &=2(\\hat{y}-y) \\sigma\\left(\\sum_{i} \\mathbf{W}_{i k} x_{i}+b_{k}\\right) \\\\\n",
    "\\frac{\\partial L}{\\partial b_{k}} &=2(\\hat{y}-y) \\mathbf{W}_{k}^{\\prime} \\theta\\left(\\sum_{i} \\mathbf{W}_{i k} x_{i}+b_{k}\\right) \\\\\n",
    "\\frac{\\partial L}{\\partial \\mathbf{W}_{k m}} &=2(\\hat{y}-y) \\mathbf{W}_{m}^{\\prime} \\theta\\left(\\sum_{i} \\mathbf{W}_{i m} x_{i}+b_{m}\\right) x_{k}\n",
    "\\end{aligned}\n",
    "\n",
    "Here, $\\Theta$ denotes the Heaviside step function.\n",
    "Now, update the weights and bias via learning rate $\\alpha$ by\n",
    "\n",
    "\\begin{aligned}\n",
    "b^{\\prime} &= b^{\\prime} - \\alpha \\frac{\\partial L}{\\partial b^{\\prime}} \\\\\n",
    "\\mathbf{W}_{k}^{\\prime} &= \\mathbf{W}_{k}^{\\prime} - \\alpha \\frac{\\partial L}{\\partial \\mathbf{W}_{k}^{\\prime}} \\\\\n",
    "b_{k} &= b_{k} - \\alpha \\frac{\\partial L}{\\partial b_{k}} & \\\\\n",
    "\\mathbf{W}_{k m} &= \\mathbf{W}_{k m} - \\alpha \\frac{\\partial L}{\\partial \\mathbf{W}_{k m}} &\n",
    "\\end{aligned}\n",
    "\n",
    "\n",
    "<details>\n",
    "    See the links\n",
    "    <a href=\"https://www.tutorialspoint.com/python/python_basic_operators.htm\"><code>python_basic_operators</code></a>\n",
    "    and\n",
    "    <a href=\"https://numpy.org/doc/stable/reference/generated/numpy.outer.html\"><code>outer_product_of_two_vectors</code></a>\n"
   ]
  },
  {
   "cell_type": "code",
   "execution_count": 29,
   "metadata": {
    "pycharm": {
     "name": "#%%\n"
    }
   },
   "outputs": [],
   "source": [
    "# learning rate\n",
    "lr = 0.00005\n",
    "\n",
    "def update_weights(x,y,W,b,Wp,bp):\n",
    "    \n",
    "    z = nn(x,W,b,Wp,bp)\n",
    "    \n",
    "    # Use the formulas derived to calculate the gradient for each of W,b,Wp,bp\n",
    "    delta_bp = 2 * (z-y)\n",
    "    delta_Wp = delta_bp * relu(np.dot(W,x)+b)\n",
    "    delta_b = delta_bp * Wp * np.heaviside(np.dot(W,x)+b,0.5)\n",
    "    delta_W = delta_bp * np.outer(Wp * np.heaviside(np.dot(W,x)+b,0.5),x)\n",
    "    \n",
    "    \n",
    "    # Update the weights/bias following the rule\n",
    "    bp -= lr * delta_bp\n",
    "    Wp -= lr * delta_Wp\n",
    "    b  -= lr * delta_b\n",
    "    W  -= lr * delta_W\n",
    "    \n",
    "    # return new weights and bias\n",
    "    return W, b, Wp, bp "
   ]
  },
  {
   "cell_type": "code",
   "execution_count": 30,
   "metadata": {
    "pycharm": {
     "name": "#%%\n"
    }
   },
   "outputs": [
    {
     "name": "stdout",
     "output_type": "stream",
     "text": [
      "Epoch: 0 Train Loss: 0.9335262536188299 Test Loss: 0.9554353919713549\n",
      "Epoch: 1 Train Loss: 0.8220171221273876 Test Loss: 0.8451182560005069\n",
      "Epoch: 2 Train Loss: 0.7761049489281161 Test Loss: 0.8014853933471069\n",
      "Epoch: 3 Train Loss: 0.7521425827027876 Test Loss: 0.7800510138167487\n",
      "Epoch: 4 Train Loss: 0.7368366047476212 Test Loss: 0.7670191527651823\n",
      "Epoch: 5 Train Loss: 0.7255676396457169 Test Loss: 0.7576923615700348\n",
      "Epoch: 6 Train Loss: 0.7165423863410251 Test Loss: 0.7503613571863988\n",
      "Epoch: 7 Train Loss: 0.7089772304884597 Test Loss: 0.7442801678147333\n",
      "Epoch: 8 Train Loss: 0.702432656236914 Test Loss: 0.7391002165925287\n",
      "Epoch: 9 Train Loss: 0.6967056888910516 Test Loss: 0.7346392662578632\n",
      "Epoch: 10 Train Loss: 0.6916448303572291 Test Loss: 0.7307605831442778\n",
      "Epoch: 11 Train Loss: 0.6871537251923016 Test Loss: 0.7273707705341018\n",
      "Epoch: 12 Train Loss: 0.6831457238550447 Test Loss: 0.7243971773428144\n",
      "Epoch: 13 Train Loss: 0.6795288572099337 Test Loss: 0.7217574227277451\n",
      "Epoch: 14 Train Loss: 0.6762321238346198 Test Loss: 0.7194070487808114\n",
      "Epoch: 15 Train Loss: 0.6732168834223912 Test Loss: 0.7173071843735819\n",
      "Epoch: 16 Train Loss: 0.6704550731830993 Test Loss: 0.7154185572649149\n",
      "Epoch: 17 Train Loss: 0.6678932069602391 Test Loss: 0.7137031170321797\n",
      "Epoch: 18 Train Loss: 0.6655181235869092 Test Loss: 0.7121467239547342\n",
      "Epoch: 19 Train Loss: 0.6633082078552096 Test Loss: 0.710730348972956\n",
      "Epoch: 20 Train Loss: 0.6612519948169914 Test Loss: 0.7094246546556245\n",
      "Epoch: 21 Train Loss: 0.6593264335192518 Test Loss: 0.7082158507866249\n",
      "Epoch: 22 Train Loss: 0.6575205874302834 Test Loss: 0.7070998350743216\n",
      "Epoch: 23 Train Loss: 0.6558200095798749 Test Loss: 0.7060567535659729\n",
      "Epoch: 24 Train Loss: 0.6542101524067856 Test Loss: 0.7050685694995253\n",
      "Epoch: 25 Train Loss: 0.6526678936349325 Test Loss: 0.7041243946254623\n",
      "Epoch: 26 Train Loss: 0.6511973481018142 Test Loss: 0.7032322944898186\n",
      "Epoch: 27 Train Loss: 0.6497975245436011 Test Loss: 0.7023896277081759\n",
      "Epoch: 28 Train Loss: 0.6484676590987215 Test Loss: 0.7015932107296184\n",
      "Epoch: 29 Train Loss: 0.6471953735848438 Test Loss: 0.7008337596066198\n",
      "Epoch: 30 Train Loss: 0.645975332316164 Test Loss: 0.7001124924728097\n",
      "Epoch: 31 Train Loss: 0.6447985739838354 Test Loss: 0.6994173022198861\n",
      "Epoch: 32 Train Loss: 0.6436729776501374 Test Loss: 0.6987530459428127\n",
      "Epoch: 33 Train Loss: 0.6425906458171068 Test Loss: 0.6981223597442586\n",
      "Epoch: 34 Train Loss: 0.6415453202655959 Test Loss: 0.6975174865600634\n",
      "Epoch: 35 Train Loss: 0.6405253037656975 Test Loss: 0.6969320122622569\n",
      "Epoch: 36 Train Loss: 0.6395401642140183 Test Loss: 0.6963653900194285\n",
      "Epoch: 37 Train Loss: 0.63859502848586 Test Loss: 0.6958221050156754\n",
      "Epoch: 38 Train Loss: 0.6376850398239529 Test Loss: 0.6953079015074901\n",
      "Epoch: 39 Train Loss: 0.6368065239093905 Test Loss: 0.6948145400790955\n",
      "Epoch: 40 Train Loss: 0.6359490571659829 Test Loss: 0.6943336616858774\n",
      "Epoch: 41 Train Loss: 0.6351193595370669 Test Loss: 0.69386594829582\n",
      "Epoch: 42 Train Loss: 0.6343212223720905 Test Loss: 0.6934225417213287\n",
      "Epoch: 43 Train Loss: 0.6335483616885684 Test Loss: 0.6929900524624812\n",
      "Epoch: 44 Train Loss: 0.6327963109635282 Test Loss: 0.6925720870644002\n",
      "Epoch: 45 Train Loss: 0.6320706466012368 Test Loss: 0.6921715996322249\n",
      "Epoch: 46 Train Loss: 0.6313688322646894 Test Loss: 0.6917867579457181\n",
      "Epoch: 47 Train Loss: 0.6306870687862642 Test Loss: 0.6914062554208167\n",
      "Epoch: 48 Train Loss: 0.6300191137290136 Test Loss: 0.6910316204581128\n",
      "Epoch: 49 Train Loss: 0.6293594802575581 Test Loss: 0.6906587988304529\n",
      "Epoch: 50 Train Loss: 0.6287185766697921 Test Loss: 0.6902983793446492\n",
      "Epoch: 51 Train Loss: 0.6280918991914392 Test Loss: 0.6899407062676238\n",
      "Epoch: 52 Train Loss: 0.6274851986095659 Test Loss: 0.6895935471271829\n",
      "Epoch: 53 Train Loss: 0.6268904441982374 Test Loss: 0.689252530158635\n",
      "Epoch: 54 Train Loss: 0.6263113624204774 Test Loss: 0.6889219404734339\n",
      "Epoch: 55 Train Loss: 0.6257482340651928 Test Loss: 0.6886008085279353\n",
      "Epoch: 56 Train Loss: 0.6251941572676518 Test Loss: 0.6882816004873658\n",
      "Epoch: 57 Train Loss: 0.6246514177806022 Test Loss: 0.6879680880080165\n",
      "Epoch: 58 Train Loss: 0.6241190751922465 Test Loss: 0.6876621072639155\n",
      "Epoch: 59 Train Loss: 0.623596603057694 Test Loss: 0.6873585996042693\n",
      "Epoch: 60 Train Loss: 0.6230856943678067 Test Loss: 0.6870614773822176\n",
      "Epoch: 61 Train Loss: 0.6225881936483761 Test Loss: 0.6867674572946165\n",
      "Epoch: 62 Train Loss: 0.6220972196559599 Test Loss: 0.6864730633529502\n",
      "Epoch: 63 Train Loss: 0.6216173444493736 Test Loss: 0.6861869737528752\n",
      "Epoch: 64 Train Loss: 0.6211426841522601 Test Loss: 0.6859067426170435\n",
      "Epoch: 65 Train Loss: 0.620676580097781 Test Loss: 0.6856300269745086\n",
      "Epoch: 66 Train Loss: 0.6202190309416373 Test Loss: 0.685353641209452\n",
      "Epoch: 67 Train Loss: 0.6197719853125824 Test Loss: 0.6850852359920064\n",
      "Epoch: 68 Train Loss: 0.6193319317069936 Test Loss: 0.6848232381307556\n",
      "Epoch: 69 Train Loss: 0.6188978549571587 Test Loss: 0.6845687570468544\n",
      "Epoch: 70 Train Loss: 0.6184671552224824 Test Loss: 0.684319096255345\n",
      "Epoch: 71 Train Loss: 0.6180426747994108 Test Loss: 0.6840715847612736\n",
      "Epoch: 72 Train Loss: 0.6176209469544385 Test Loss: 0.6838266785488738\n",
      "Epoch: 73 Train Loss: 0.6172032885363795 Test Loss: 0.6835874650163382\n",
      "Epoch: 74 Train Loss: 0.6167896670504242 Test Loss: 0.6833446850513362\n",
      "Epoch: 75 Train Loss: 0.6163802325134092 Test Loss: 0.6831010379160912\n",
      "Epoch: 76 Train Loss: 0.6159746013981332 Test Loss: 0.6828588629072078\n",
      "Epoch: 77 Train Loss: 0.6155758280443022 Test Loss: 0.6826156646106344\n",
      "Epoch: 78 Train Loss: 0.6151759511156003 Test Loss: 0.6823655488673723\n",
      "Epoch: 79 Train Loss: 0.6147812292775181 Test Loss: 0.6821122583807683\n",
      "Epoch: 80 Train Loss: 0.6143846793164862 Test Loss: 0.6818536492022533\n",
      "Epoch: 81 Train Loss: 0.6139882182459853 Test Loss: 0.681596335676719\n",
      "Epoch: 82 Train Loss: 0.6135852652429654 Test Loss: 0.6813311527907243\n",
      "Epoch: 83 Train Loss: 0.6131815426617596 Test Loss: 0.6810670085352327\n",
      "Epoch: 84 Train Loss: 0.6127808992253113 Test Loss: 0.6808039671836578\n",
      "Epoch: 85 Train Loss: 0.6123781224456473 Test Loss: 0.6805476999131694\n",
      "Epoch: 86 Train Loss: 0.611988650779794 Test Loss: 0.6802995449068935\n",
      "Epoch: 87 Train Loss: 0.6116088450343974 Test Loss: 0.6800537737976166\n",
      "Epoch: 88 Train Loss: 0.6112285596689555 Test Loss: 0.6797945714417188\n",
      "Epoch: 89 Train Loss: 0.610851026550699 Test Loss: 0.6795377452621464\n",
      "Epoch: 90 Train Loss: 0.6104798092439248 Test Loss: 0.6792909620280166\n",
      "Epoch: 91 Train Loss: 0.6101208665349612 Test Loss: 0.6790419792202451\n",
      "Epoch: 92 Train Loss: 0.609772540358538 Test Loss: 0.6788065337134833\n",
      "Epoch: 93 Train Loss: 0.6094293487504274 Test Loss: 0.6785723850749613\n",
      "Epoch: 94 Train Loss: 0.6090899302710128 Test Loss: 0.6783404353404452\n",
      "Epoch: 95 Train Loss: 0.6087537215083055 Test Loss: 0.6781194616483143\n",
      "Epoch: 96 Train Loss: 0.6084198980803557 Test Loss: 0.6778948342853118\n",
      "Epoch: 97 Train Loss: 0.6080891164729109 Test Loss: 0.6776698787195239\n",
      "Epoch: 98 Train Loss: 0.6077598201692438 Test Loss: 0.6774339129754686\n",
      "Epoch: 99 Train Loss: 0.6074369468345313 Test Loss: 0.6772095498185704\n"
     ]
    }
   ],
   "source": [
    "train_losses = []\n",
    "test_losses = []\n",
    "\n",
    "# How many epochs to train\n",
    "n_epochs = 100\n",
    "\n",
    "# Loop over the epochs\n",
    "for ep in range(n_epochs):\n",
    "        \n",
    "    # Each epoch is a complete over the training data\n",
    "    for i in range(X_train.shape[0]):\n",
    "        \n",
    "        # pick one example\n",
    "        x = X_train[i]\n",
    "        y = y_train[i]\n",
    "\n",
    "        # use it to update the weights\n",
    "        W, b, Wp, bp = update_weights(x,y, W, b, Wp, bp)\n",
    "    \n",
    "    # Calculate predictions for the full training and testing sample\n",
    "    y_pred_train = [nn(x,W,b,Wp,bp)[0] for x in X_train]\n",
    "    y_pred = [nn(x,W,b,Wp,bp)[0] for x in X_test]\n",
    "\n",
    "    train_loss = sum((y_pred_train-y_train)**2) / y_train.shape[0]\n",
    "    test_loss = sum((y_pred-y_test)**2) / y_test.shape[0] \n",
    "    \n",
    "    # print some information\n",
    "    print(\"Epoch:\",ep, \"Train Loss:\", train_loss, \"Test Loss:\", test_loss)\n",
    "    \n",
    "    # store the losses for later use\n",
    "    train_losses.append(train_loss)\n",
    "    test_losses.append(test_loss)"
   ]
  },
  {
   "cell_type": "code",
   "execution_count": 31,
   "metadata": {
    "pycharm": {
     "name": "#%%\n"
    }
   },
   "outputs": [
    {
     "name": "stdout",
     "output_type": "stream",
     "text": [
      "Best loss: 0.677, Final loss: 0.677\n",
      "Correlation coefficient: 0.5862827118503674\n"
     ]
    },
    {
     "data": {
      "image/png": "[encoded data removed]",
      "text/plain": [
       "<Figure size 432x288 with 1 Axes>"
      ]
     },
     "metadata": {
      "needs_background": "light"
     },
     "output_type": "display_data"
    },
    {
     "data": {
      "image/png": "[encoded data removed]",
      "text/plain": [
       "<Figure size 432x288 with 1 Axes>"
      ]
     },
     "metadata": {
      "needs_background": "light"
     },
     "output_type": "display_data"
    }
   ],
   "source": [
    "# After the training:\n",
    "    \n",
    "# Prepare scatter plot\n",
    "y_pred = [nn(x,W,b,Wp,bp)[0] for x in X_test]\n",
    "\n",
    "# now we need to rescale the output to the correct values\n",
    "y_pred = (y_pred + mean[11])* std[11]\n",
    "y_test = (y_test + mean[11])* std[11]\n",
    "y_pred_train = (y_pred_train + mean[11]) * std[11]\n",
    "y_train = (y_train + mean[11]) * std[11]\n",
    "\n",
    "\n",
    "print(f\"Best loss: {min(test_losses):.3f}, Final loss: {test_losses[-1]:.3f}\")\n",
    "\n",
    "print(\"Correlation coefficient:\", np.corrcoef(y_pred,y_test)[0,1])\n",
    "plt.scatter(y_pred_train,y_train)\n",
    "plt.xlabel(\"Predicted\")\n",
    "plt.ylabel(\"True\")\n",
    "plt.show()\n",
    "\n",
    "# Prepare and loss over time\n",
    "plt.plot(train_losses[2:],label=\"train\")\n",
    "plt.plot(test_losses[2:],label=\"test\") # we omit the first data points as the first loss is typically very high which makes it difficult to read the plot. \n",
    "plt.legend()\n",
    "plt.xlabel(\"Epoch\")\n",
    "plt.ylabel(\"Loss\")\n",
    "plt.show()\n"
   ]
  },
  {
   "cell_type": "markdown",
   "metadata": {
    "pycharm": {
     "name": "#%% md\n"
    }
   },
   "source": [
    "# 4) Neural network by Keras"
   ]
  },
  {
   "cell_type": "code",
   "execution_count": 32,
   "metadata": {
    "pycharm": {
     "name": "#%%\n"
    }
   },
   "outputs": [],
   "source": [
    "from tensorflow import keras\n",
    "from tensorflow.keras import layers"
   ]
  },
  {
   "cell_type": "code",
   "execution_count": 41,
   "metadata": {
    "pycharm": {
     "name": "#%%\n"
    }
   },
   "outputs": [
    {
     "name": "stdout",
     "output_type": "stream",
     "text": [
      "data: (4898, 12)\n",
      "(12,)\n",
      "First example:\n",
      "Features: (3000, 11)\n",
      "Quality: (3000,)\n"
     ]
    }
   ],
   "source": [
    "data = np.genfromtxt('winequality-white.csv',delimiter=\";\",skip_header=1)\n",
    "\n",
    "print(\"data:\", data.shape)\n",
    "\n",
    "np.random.shuffle(data)\n",
    "\n",
    "# Normalize\n",
    "mean = np.mean(data, axis=0)\n",
    "std = np.std(data, axis = 0)\n",
    "print(mean.shape)\n",
    "\n",
    "data = (data - mean)/std\n",
    "\n",
    "X_train = data[:3000,:11]\n",
    "y_train = data[:3000,11] \n",
    "\n",
    "X_test = data[3000:,:11]\n",
    "y_test = data[3000:,11]\n",
    "\n",
    "print(\"First example:\")\n",
    "print(\"Features:\", X_train.shape)\n",
    "print(\"Quality:\", y_train.shape)"
   ]
  },
  {
   "cell_type": "code",
   "execution_count": 34,
   "metadata": {
    "pycharm": {
     "name": "#%%\n"
    }
   },
   "outputs": [],
   "source": [
    "hidden_nodes = 50\n",
    "input = X_train.shape[(1)]"
   ]
  },
  {
   "cell_type": "code",
   "execution_count": 35,
   "metadata": {
    "pycharm": {
     "name": "#%%\n"
    }
   },
   "outputs": [
    {
     "name": "stderr",
     "output_type": "stream",
     "text": [
      "2022-03-25 20:31:26.041836: I tensorflow/core/platform/cpu_feature_guard.cc:151] This TensorFlow binary is optimized with oneAPI Deep Neural Network Library (oneDNN) to use the following CPU instructions in performance-critical operations:  AVX2 FMA\n",
      "To enable them in other operations, rebuild TensorFlow with the appropriate compiler flags.\n"
     ]
    }
   ],
   "source": [
    "model = keras.Sequential([\n",
    "                          layers.Dense(units=hidden_nodes, activation='relu', input_shape=[input]),\n",
    "])"
   ]
  },
  {
   "cell_type": "code",
   "execution_count": 36,
   "metadata": {
    "pycharm": {
     "name": "#%%\n"
    }
   },
   "outputs": [],
   "source": [
    "model.compile(\n",
    "    optimizer=\"adam\",\n",
    "    loss=\"mae\",\n",
    ")"
   ]
  },
  {
   "cell_type": "code",
   "execution_count": 37,
   "metadata": {
    "pycharm": {
     "name": "#%%\n"
    }
   },
   "outputs": [
    {
     "name": "stdout",
     "output_type": "stream",
     "text": [
      "Epoch 1/100\n",
      "12/12 [==============================] - 0s 10ms/step - loss: 0.8353 - val_loss: 0.8260\n",
      "Epoch 2/100\n",
      "12/12 [==============================] - 0s 3ms/step - loss: 0.8217 - val_loss: 0.8139\n",
      "Epoch 3/100\n",
      "12/12 [==============================] - 0s 3ms/step - loss: 0.8093 - val_loss: 0.8030\n",
      "Epoch 4/100\n",
      "12/12 [==============================] - 0s 3ms/step - loss: 0.7982 - val_loss: 0.7930\n",
      "Epoch 5/100\n",
      "12/12 [==============================] - 0s 3ms/step - loss: 0.7879 - val_loss: 0.7842\n",
      "Epoch 6/100\n",
      "12/12 [==============================] - 0s 3ms/step - loss: 0.7789 - val_loss: 0.7762\n",
      "Epoch 7/100\n",
      "12/12 [==============================] - 0s 3ms/step - loss: 0.7707 - val_loss: 0.7691\n",
      "Epoch 8/100\n",
      "12/12 [==============================] - 0s 3ms/step - loss: 0.7635 - val_loss: 0.7627\n",
      "Epoch 9/100\n",
      "12/12 [==============================] - 0s 3ms/step - loss: 0.7571 - val_loss: 0.7572\n",
      "Epoch 10/100\n",
      "12/12 [==============================] - 0s 3ms/step - loss: 0.7516 - val_loss: 0.7524\n",
      "Epoch 11/100\n",
      "12/12 [==============================] - 0s 3ms/step - loss: 0.7468 - val_loss: 0.7484\n",
      "Epoch 12/100\n",
      "12/12 [==============================] - 0s 3ms/step - loss: 0.7427 - val_loss: 0.7447\n",
      "Epoch 13/100\n",
      "12/12 [==============================] - 0s 3ms/step - loss: 0.7391 - val_loss: 0.7416\n",
      "Epoch 14/100\n",
      "12/12 [==============================] - 0s 3ms/step - loss: 0.7360 - val_loss: 0.7389\n",
      "Epoch 15/100\n",
      "12/12 [==============================] - 0s 3ms/step - loss: 0.7333 - val_loss: 0.7366\n",
      "Epoch 16/100\n",
      "12/12 [==============================] - 0s 3ms/step - loss: 0.7311 - val_loss: 0.7346\n",
      "Epoch 17/100\n",
      "12/12 [==============================] - 0s 3ms/step - loss: 0.7291 - val_loss: 0.7328\n",
      "Epoch 18/100\n",
      "12/12 [==============================] - 0s 3ms/step - loss: 0.7275 - val_loss: 0.7313\n",
      "Epoch 19/100\n",
      "12/12 [==============================] - 0s 3ms/step - loss: 0.7260 - val_loss: 0.7299\n",
      "Epoch 20/100\n",
      "12/12 [==============================] - 0s 3ms/step - loss: 0.7248 - val_loss: 0.7286\n",
      "Epoch 21/100\n",
      "12/12 [==============================] - 0s 3ms/step - loss: 0.7236 - val_loss: 0.7276\n",
      "Epoch 22/100\n",
      "12/12 [==============================] - 0s 3ms/step - loss: 0.7226 - val_loss: 0.7265\n",
      "Epoch 23/100\n",
      "12/12 [==============================] - 0s 3ms/step - loss: 0.7217 - val_loss: 0.7256\n",
      "Epoch 24/100\n",
      "12/12 [==============================] - 0s 3ms/step - loss: 0.7208 - val_loss: 0.7246\n",
      "Epoch 25/100\n",
      "12/12 [==============================] - 0s 3ms/step - loss: 0.7199 - val_loss: 0.7237\n",
      "Epoch 26/100\n",
      "12/12 [==============================] - 0s 3ms/step - loss: 0.7191 - val_loss: 0.7229\n",
      "Epoch 27/100\n",
      "12/12 [==============================] - 0s 3ms/step - loss: 0.7184 - val_loss: 0.7220\n",
      "Epoch 28/100\n",
      "12/12 [==============================] - 0s 3ms/step - loss: 0.7176 - val_loss: 0.7213\n",
      "Epoch 29/100\n",
      "12/12 [==============================] - 0s 3ms/step - loss: 0.7170 - val_loss: 0.7206\n",
      "Epoch 30/100\n",
      "12/12 [==============================] - 0s 3ms/step - loss: 0.7163 - val_loss: 0.7199\n",
      "Epoch 31/100\n",
      "12/12 [==============================] - 0s 3ms/step - loss: 0.7157 - val_loss: 0.7192\n",
      "Epoch 32/100\n",
      "12/12 [==============================] - 0s 3ms/step - loss: 0.7151 - val_loss: 0.7186\n",
      "Epoch 33/100\n",
      "12/12 [==============================] - 0s 3ms/step - loss: 0.7146 - val_loss: 0.7181\n",
      "Epoch 34/100\n",
      "12/12 [==============================] - 0s 3ms/step - loss: 0.7141 - val_loss: 0.7176\n",
      "Epoch 35/100\n",
      "12/12 [==============================] - 0s 3ms/step - loss: 0.7137 - val_loss: 0.7171\n",
      "Epoch 36/100\n",
      "12/12 [==============================] - 0s 3ms/step - loss: 0.7132 - val_loss: 0.7166\n",
      "Epoch 37/100\n",
      "12/12 [==============================] - 0s 3ms/step - loss: 0.7128 - val_loss: 0.7162\n",
      "Epoch 38/100\n",
      "12/12 [==============================] - 0s 3ms/step - loss: 0.7124 - val_loss: 0.7158\n",
      "Epoch 39/100\n",
      "12/12 [==============================] - 0s 3ms/step - loss: 0.7121 - val_loss: 0.7153\n",
      "Epoch 40/100\n",
      "12/12 [==============================] - 0s 3ms/step - loss: 0.7117 - val_loss: 0.7150\n",
      "Epoch 41/100\n",
      "12/12 [==============================] - 0s 3ms/step - loss: 0.7113 - val_loss: 0.7146\n",
      "Epoch 42/100\n",
      "12/12 [==============================] - 0s 3ms/step - loss: 0.7110 - val_loss: 0.7142\n",
      "Epoch 43/100\n",
      "12/12 [==============================] - 0s 6ms/step - loss: 0.7107 - val_loss: 0.7138\n",
      "Epoch 44/100\n",
      "12/12 [==============================] - 0s 3ms/step - loss: 0.7103 - val_loss: 0.7135\n",
      "Epoch 45/100\n",
      "12/12 [==============================] - 0s 3ms/step - loss: 0.7100 - val_loss: 0.7132\n",
      "Epoch 46/100\n",
      "12/12 [==============================] - 0s 3ms/step - loss: 0.7097 - val_loss: 0.7128\n",
      "Epoch 47/100\n",
      "12/12 [==============================] - 0s 3ms/step - loss: 0.7094 - val_loss: 0.7125\n",
      "Epoch 48/100\n",
      "12/12 [==============================] - 0s 3ms/step - loss: 0.7091 - val_loss: 0.7122\n",
      "Epoch 49/100\n",
      "12/12 [==============================] - 0s 5ms/step - loss: 0.7089 - val_loss: 0.7119\n",
      "Epoch 50/100\n",
      "12/12 [==============================] - 0s 3ms/step - loss: 0.7086 - val_loss: 0.7117\n",
      "Epoch 51/100\n",
      "12/12 [==============================] - 0s 3ms/step - loss: 0.7084 - val_loss: 0.7114\n",
      "Epoch 52/100\n",
      "12/12 [==============================] - 0s 3ms/step - loss: 0.7081 - val_loss: 0.7112\n",
      "Epoch 53/100\n",
      "12/12 [==============================] - 0s 3ms/step - loss: 0.7079 - val_loss: 0.7110\n",
      "Epoch 54/100\n",
      "12/12 [==============================] - 0s 3ms/step - loss: 0.7077 - val_loss: 0.7108\n",
      "Epoch 55/100\n",
      "12/12 [==============================] - 0s 3ms/step - loss: 0.7075 - val_loss: 0.7106\n",
      "Epoch 56/100\n",
      "12/12 [==============================] - 0s 3ms/step - loss: 0.7074 - val_loss: 0.7103\n",
      "Epoch 57/100\n",
      "12/12 [==============================] - 0s 3ms/step - loss: 0.7071 - val_loss: 0.7102\n",
      "Epoch 58/100\n",
      "12/12 [==============================] - 0s 3ms/step - loss: 0.7069 - val_loss: 0.7100\n",
      "Epoch 59/100\n",
      "12/12 [==============================] - 0s 3ms/step - loss: 0.7068 - val_loss: 0.7099\n",
      "Epoch 60/100\n",
      "12/12 [==============================] - 0s 3ms/step - loss: 0.7066 - val_loss: 0.7098\n",
      "Epoch 61/100\n",
      "12/12 [==============================] - 0s 3ms/step - loss: 0.7064 - val_loss: 0.7097\n",
      "Epoch 62/100\n",
      "12/12 [==============================] - 0s 3ms/step - loss: 0.7063 - val_loss: 0.7095\n",
      "Epoch 63/100\n",
      "12/12 [==============================] - 0s 3ms/step - loss: 0.7062 - val_loss: 0.7094\n",
      "Epoch 64/100\n",
      "12/12 [==============================] - 0s 2ms/step - loss: 0.7061 - val_loss: 0.7093\n",
      "Epoch 65/100\n",
      "12/12 [==============================] - 0s 3ms/step - loss: 0.7060 - val_loss: 0.7092\n",
      "Epoch 66/100\n",
      "12/12 [==============================] - 0s 3ms/step - loss: 0.7059 - val_loss: 0.7091\n",
      "Epoch 67/100\n",
      "12/12 [==============================] - 0s 3ms/step - loss: 0.7058 - val_loss: 0.7090\n",
      "Epoch 68/100\n",
      "12/12 [==============================] - 0s 3ms/step - loss: 0.7057 - val_loss: 0.7090\n",
      "Epoch 69/100\n",
      "12/12 [==============================] - 0s 3ms/step - loss: 0.7057 - val_loss: 0.7089\n",
      "Epoch 70/100\n",
      "12/12 [==============================] - 0s 3ms/step - loss: 0.7056 - val_loss: 0.7089\n",
      "Epoch 71/100\n",
      "12/12 [==============================] - 0s 3ms/step - loss: 0.7056 - val_loss: 0.7088\n",
      "Epoch 72/100\n",
      "12/12 [==============================] - 0s 3ms/step - loss: 0.7055 - val_loss: 0.7088\n",
      "Epoch 73/100\n",
      "12/12 [==============================] - 0s 3ms/step - loss: 0.7054 - val_loss: 0.7087\n",
      "Epoch 74/100\n",
      "12/12 [==============================] - 0s 3ms/step - loss: 0.7054 - val_loss: 0.7086\n",
      "Epoch 75/100\n",
      "12/12 [==============================] - 0s 3ms/step - loss: 0.7053 - val_loss: 0.7086\n",
      "Epoch 76/100\n",
      "12/12 [==============================] - 0s 3ms/step - loss: 0.7053 - val_loss: 0.7086\n",
      "Epoch 77/100\n",
      "12/12 [==============================] - 0s 3ms/step - loss: 0.7052 - val_loss: 0.7085\n",
      "Epoch 78/100\n",
      "12/12 [==============================] - 0s 3ms/step - loss: 0.7052 - val_loss: 0.7085\n",
      "Epoch 79/100\n",
      "12/12 [==============================] - 0s 3ms/step - loss: 0.7051 - val_loss: 0.7085\n",
      "Epoch 80/100\n",
      "12/12 [==============================] - 0s 3ms/step - loss: 0.7051 - val_loss: 0.7084\n",
      "Epoch 81/100\n",
      "12/12 [==============================] - 0s 3ms/step - loss: 0.7050 - val_loss: 0.7084\n",
      "Epoch 82/100\n",
      "12/12 [==============================] - 0s 3ms/step - loss: 0.7050 - val_loss: 0.7084\n",
      "Epoch 83/100\n",
      "12/12 [==============================] - 0s 3ms/step - loss: 0.7050 - val_loss: 0.7083\n",
      "Epoch 84/100\n",
      "12/12 [==============================] - 0s 3ms/step - loss: 0.7050 - val_loss: 0.7084\n",
      "Epoch 85/100\n",
      "12/12 [==============================] - 0s 3ms/step - loss: 0.7049 - val_loss: 0.7083\n",
      "Epoch 86/100\n",
      "12/12 [==============================] - 0s 3ms/step - loss: 0.7049 - val_loss: 0.7083\n",
      "Epoch 87/100\n",
      "12/12 [==============================] - 0s 3ms/step - loss: 0.7049 - val_loss: 0.7082\n",
      "Epoch 88/100\n",
      "12/12 [==============================] - 0s 3ms/step - loss: 0.7048 - val_loss: 0.7082\n",
      "Epoch 89/100\n",
      "12/12 [==============================] - 0s 3ms/step - loss: 0.7048 - val_loss: 0.7082\n",
      "Epoch 90/100\n",
      "12/12 [==============================] - 0s 3ms/step - loss: 0.7048 - val_loss: 0.7082\n",
      "Epoch 91/100\n",
      "12/12 [==============================] - 0s 3ms/step - loss: 0.7048 - val_loss: 0.7082\n",
      "Epoch 92/100\n",
      "12/12 [==============================] - 0s 3ms/step - loss: 0.7047 - val_loss: 0.7081\n",
      "Epoch 93/100\n",
      "12/12 [==============================] - 0s 3ms/step - loss: 0.7047 - val_loss: 0.7081\n",
      "Epoch 94/100\n",
      "12/12 [==============================] - 0s 3ms/step - loss: 0.7047 - val_loss: 0.7081\n",
      "Epoch 95/100\n",
      "12/12 [==============================] - 0s 3ms/step - loss: 0.7046 - val_loss: 0.7081\n",
      "Epoch 96/100\n",
      "12/12 [==============================] - 0s 3ms/step - loss: 0.7046 - val_loss: 0.7081\n",
      "Epoch 97/100\n",
      "12/12 [==============================] - 0s 3ms/step - loss: 0.7046 - val_loss: 0.7081\n",
      "Epoch 98/100\n",
      "12/12 [==============================] - 0s 3ms/step - loss: 0.7046 - val_loss: 0.7080\n",
      "Epoch 99/100\n",
      "12/12 [==============================] - 0s 3ms/step - loss: 0.7045 - val_loss: 0.7080\n",
      "Epoch 100/100\n",
      "12/12 [==============================] - 0s 3ms/step - loss: 0.7045 - val_loss: 0.7080\n"
     ]
    }
   ],
   "source": [
    "history = model.fit(\n",
    "    X_train, y_train,\n",
    "    validation_data=(X_test, y_test),\n",
    "    batch_size=256,\n",
    "    epochs=100,\n",
    ")"
   ]
  },
  {
   "cell_type": "code",
   "execution_count": 38,
   "metadata": {
    "pycharm": {
     "name": "#%%\n"
    }
   },
   "outputs": [
    {
     "data": {
      "image/png": "[encoded data removed]",
      "text/plain": [
       "<Figure size 432x288 with 1 Axes>"
      ]
     },
     "metadata": {
      "needs_background": "light"
     },
     "output_type": "display_data"
    }
   ],
   "source": [
    "import pandas as pd\n",
    "\n",
    "# convert the training history to a dataframe\n",
    "history_df = pd.DataFrame(history.history)\n",
    "# use Pandas native plot method\n",
    "history_df['loss'].plot();\n",
    "history_df['val_loss'].plot();"
   ]
  }
 ],
 "metadata": {
  "colab": {
   "collapsed_sections": [],
   "name": "WineQuality_NormalEquation",
   "provenance": []
  },
  "kernelspec": {
   "display_name": "Python 3 (ipykernel)",
   "language": "python",
   "name": "python3"
  },
  "language_info": {
   "codemirror_mode": {
    "name": "ipython",
    "version": 3
   },
   "file_extension": ".py",
   "mimetype": "text/x-python",
   "name": "python",
   "nbconvert_exporter": "python",
   "pygments_lexer": "ipython3",
   "version": "3.7.13"
  }
 },
 "nbformat": 4,
 "nbformat_minor": 1
}
