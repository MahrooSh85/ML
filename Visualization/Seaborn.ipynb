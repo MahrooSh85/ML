{
 "cells": [
  {
   "cell_type": "markdown",
   "id": "06df3bdd",
   "metadata": {},
   "source": [
    "# Seaborn\n",
    "\n",
    "Seaborn is a Python data visualization library based on matplotlib."
   ]
  },
  {
   "cell_type": "code",
   "execution_count": 1,
   "id": "70016932",
   "metadata": {},
   "outputs": [],
   "source": [
    "import matplotlib.pyplot as plt\n",
    "%matplotlib inline\n",
    "import seaborn as sns"
   ]
  },
  {
   "cell_type": "markdown",
   "id": "8c554477",
   "metadata": {},
   "source": [
    "### Line plot"
   ]
  },
  {
   "cell_type": "code",
   "execution_count": null,
   "id": "9076c232",
   "metadata": {},
   "outputs": [],
   "source": [
    "# plot whole data as a function of index\n",
    "sns.lineplot(data=data, label=\"label\")\n",
    "# to plot a slice of data, use data[\"column_name\"]\n",
    "sns.lineplot(data=data[\"column_name\"], label=\"label\")"
   ]
  },
  {
   "cell_type": "markdown",
   "id": "8b32bdc0",
   "metadata": {},
   "source": [
    "### Bar plot"
   ]
  },
  {
   "cell_type": "code",
   "execution_count": null,
   "id": "9e4cabf4",
   "metadata": {},
   "outputs": [],
   "source": [
    "sns.barplot(x=data.index, y=data['column_name'])\n",
    "# x determines what to use on the horizontal axis\n",
    "# y determines the height of each bar"
   ]
  },
  {
   "cell_type": "markdown",
   "id": "a03c8b52",
   "metadata": {},
   "source": [
    "### Heatmap"
   ]
  },
  {
   "cell_type": "code",
   "execution_count": null,
   "id": "410d6772",
   "metadata": {},
   "outputs": [],
   "source": [
    "sns.heatmap(data=data, annot=True)\n",
    "# This ensures that the values for each cell appear on the chart.\n",
    "# Leaving this out removes the numbers from each of the cells!"
   ]
  },
  {
   "cell_type": "markdown",
   "id": "5b10741e",
   "metadata": {},
   "source": [
    "### Scatter plot\n",
    "To create a simple scatter plot, two values should be specified:\n",
    "\n",
    "x: the horizontal axis,\n",
    "\n",
    "y: the vertical axis"
   ]
  },
  {
   "cell_type": "code",
   "execution_count": null,
   "id": "7d9a4186",
   "metadata": {},
   "outputs": [],
   "source": [
    "sns.scatterplot(x=data['column_name_1'], y=data['column_name_2'])"
   ]
  },
  {
   "cell_type": "markdown",
   "id": "530b28c9",
   "metadata": {},
   "source": [
    "We can add **a regression line**, or the line that best fits the data by **sns.regplot**."
   ]
  },
  {
   "cell_type": "code",
   "execution_count": null,
   "id": "3f753478",
   "metadata": {},
   "outputs": [],
   "source": [
    "sns.regplot(x=data['column_name_1'], y=data['column_name_2'])"
   ]
  },
  {
   "cell_type": "markdown",
   "id": "11b63e47",
   "metadata": {},
   "source": [
    "However, scatter plots can be used to display the relationships between not only two, but also three variables! One way of doing this is by color-coding the points.\n",
    "\n",
    "hue: color"
   ]
  },
  {
   "cell_type": "code",
   "execution_count": null,
   "id": "2a1309b8",
   "metadata": {},
   "outputs": [],
   "source": [
    "sns.scatterplot(x=data['column_name_1'], \n",
    "                y=data['column_name_2'], \n",
    "                hue=data['column_name_3'])"
   ]
  },
  {
   "cell_type": "markdown",
   "id": "a99bba0a",
   "metadata": {},
   "source": [
    "Even we can add **two regression lines** corresponding to hue (two colors) by **sns.lmplot**\n",
    "\n",
    "The sns.lmplot command  wors slightly differently than other commands.\n",
    "\n",
    "Instead of setting x=data['column_name_1'] to select the 'column_name_1' column in data, we set x='column_name_1' to specify the name of the column only, similarly for y and hue. We specify the dataset with data=data."
   ]
  },
  {
   "cell_type": "code",
   "execution_count": null,
   "id": "159fa338",
   "metadata": {},
   "outputs": [],
   "source": [
    "sns.lmplot(x=\"column_name_1\", y=\"column_name_2\", \n",
    "           hue=\"column_name_3\", data=data)"
   ]
  },
  {
   "cell_type": "code",
   "execution_count": null,
   "id": "b302b32e",
   "metadata": {},
   "outputs": [],
   "source": []
  }
 ],
 "metadata": {
  "kernelspec": {
   "display_name": "Python 3 (ipykernel)",
   "language": "python",
   "name": "python3"
  },
  "language_info": {
   "codemirror_mode": {
    "name": "ipython",
    "version": 3
   },
   "file_extension": ".py",
   "mimetype": "text/x-python",
   "name": "python",
   "nbconvert_exporter": "python",
   "pygments_lexer": "ipython3",
   "version": "3.7.13"
  }
 },
 "nbformat": 4,
 "nbformat_minor": 5
}
