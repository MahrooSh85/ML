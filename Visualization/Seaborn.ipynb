{
 "cells": [
  {
   "cell_type": "markdown",
   "id": "0ef626ae",
   "metadata": {},
   "source": [
    "# Seaborn\n",
    "\n",
    "Seaborn is a Python data visualization library based on matplotlib."
   ]
  },
  {
   "cell_type": "code",
   "execution_count": 1,
   "id": "254a7b66",
   "metadata": {},
   "outputs": [],
   "source": [
    "import matplotlib.pyplot as plt\n",
    "%matplotlib inline\n",
    "import seaborn as sns"
   ]
  },
  {
   "cell_type": "markdown",
   "id": "3fcc4440",
   "metadata": {},
   "source": [
    "What would you like to shows?\n",
    "\n",
    "- **Trend:** A trend is defined as a pattern of change.\n",
    "    - Line plot (sns.lineplot),\n",
    "        * \n",
    "- **Relationship:** between variables in your data.\n",
    "    - Bar plot (sns.barplot),\n",
    "        * comparing quantities corresponding to different groups.\n",
    "    - Heat map (sns.heatmap),\n",
    "    - Scatter plot (sns.scatterplot),\n",
    "        * show the relationship between two continuous variables; if color-coded, we can also show the relationship with a third categorical variable.\n",
    "    - swarmplot, \n",
    "        * Categorical scatter plots show the relationship between a continuous variable and a categorical variable.\n",
    "    - sns.regplot,\n",
    "        * Including a regression line in the scatter plot makes it easier to see any linear relationship between two variables.\n",
    "    - sns.lmplot,\n",
    "         * To draw multiple regression lines, if the scatter plot contains multiple, color-coded groups.\n",
    "- **Distribution:**\n",
    "    - Histogram (sns.histplot),\n",
    "        * show the distribution of a single numerical variable.\n",
    "    - kernel density distribution (sns.kdeplot),\n",
    "        * KDE plots (or 2D KDE plots) show an estimated, smooth distribution of a single numerical variable (or two numerical variables).\n",
    "    - jointplot,\n",
    "        * simultaneously displaying a 2D KDE plot with the corresponding KDE plots for each individual variable."
   ]
  },
  {
   "cell_type": "markdown",
   "id": "93bfefa3",
   "metadata": {},
   "source": [
    "### Line plot"
   ]
  },
  {
   "cell_type": "code",
   "execution_count": null,
   "id": "2b26cdeb",
   "metadata": {},
   "outputs": [],
   "source": [
    "# plot whole data as a function of index\n",
    "sns.lineplot(data=data, label=\"label\")\n",
    "# to plot a slice of data, use data[\"column_name\"]\n",
    "sns.lineplot(data=data[\"column_name\"], label=\"label\")"
   ]
  },
  {
   "cell_type": "markdown",
   "id": "17011d78",
   "metadata": {},
   "source": [
    "### Bar plot"
   ]
  },
  {
   "cell_type": "code",
   "execution_count": null,
   "id": "1b65e953",
   "metadata": {},
   "outputs": [],
   "source": [
    "sns.barplot(x=data.index, y=data['column_name'])\n",
    "# x determines what to use on the horizontal axis\n",
    "# y determines the height of each bar"
   ]
  },
  {
   "cell_type": "markdown",
   "id": "b318de67",
   "metadata": {},
   "source": [
    "### Heatmap"
   ]
  },
  {
   "cell_type": "code",
   "execution_count": null,
   "id": "2ea1db9c",
   "metadata": {},
   "outputs": [],
   "source": [
    "sns.heatmap(data=data, annot=True)\n",
    "# This ensures that the values for each cell appear on the chart.\n",
    "# Leaving this out removes the numbers from each of the cells!"
   ]
  },
  {
   "cell_type": "markdown",
   "id": "dbfbf3e8",
   "metadata": {},
   "source": [
    "### Scatter plot\n",
    "\n",
    "Scatter plots is usually used to highlight the relationship between two continuous variables. To create a simple scatter plot, two values should be specified:\n",
    "\n",
    "x: the horizontal axis,\n",
    "\n",
    "y: the vertical axis"
   ]
  },
  {
   "cell_type": "code",
   "execution_count": null,
   "id": "1e6034e2",
   "metadata": {},
   "outputs": [],
   "source": [
    "sns.scatterplot(x=data['column_name_1'], y=data['column_name_2'])"
   ]
  },
  {
   "cell_type": "markdown",
   "id": "5014c970",
   "metadata": {},
   "source": [
    "We can add **a regression line**, or the line that best fits the data by **sns.regplot**."
   ]
  },
  {
   "cell_type": "code",
   "execution_count": null,
   "id": "d3daae58",
   "metadata": {},
   "outputs": [],
   "source": [
    "sns.regplot(x=data['column_name_1'], y=data['column_name_2'])"
   ]
  },
  {
   "cell_type": "markdown",
   "id": "34bf929a",
   "metadata": {},
   "source": [
    "However, scatter plots can be used to display the relationships between not only two, but also three variables! One way of doing this is by color-coding the points.\n",
    "\n",
    "hue: color"
   ]
  },
  {
   "cell_type": "code",
   "execution_count": null,
   "id": "78fdb9b3",
   "metadata": {},
   "outputs": [],
   "source": [
    "sns.scatterplot(x=data['column_name_1'], \n",
    "                y=data['column_name_2'], \n",
    "                hue=data['column_name_3'])"
   ]
  },
  {
   "cell_type": "markdown",
   "id": "18c1a8e9",
   "metadata": {},
   "source": [
    "Even we can add **two regression lines** corresponding to hue (two colors) by **sns.lmplot**\n",
    "\n",
    "The sns.lmplot command  wors slightly differently than other commands.\n",
    "\n",
    "Instead of setting x=data['column_name_1'] to select the 'column_name_1' column in data, we set x='column_name_1' to specify the name of the column only, similarly for y and hue. We specify the dataset with data=data."
   ]
  },
  {
   "cell_type": "code",
   "execution_count": null,
   "id": "20534953",
   "metadata": {},
   "outputs": [],
   "source": [
    "sns.lmplot(x=\"column_name_1\", y=\"column_name_2\", \n",
    "           hue=\"column_name_3\", data=data)"
   ]
  },
  {
   "cell_type": "markdown",
   "id": "abfa4f03",
   "metadata": {},
   "source": [
    "### Categorical scatter plot"
   ]
  },
  {
   "cell_type": "markdown",
   "id": "0081a29e",
   "metadata": {},
   "source": [
    "The scatter plot can be used to feature a categorical variable on one of the main axes by **sns.swarmplot**."
   ]
  },
  {
   "cell_type": "code",
   "execution_count": null,
   "id": "5ef60216",
   "metadata": {},
   "outputs": [],
   "source": [
    "sns.swarmplot(x=data['column_name_categorical'],\n",
    "              y=insurance_data['column_name'])"
   ]
  },
  {
   "cell_type": "markdown",
   "id": "c9e0f06d",
   "metadata": {},
   "source": [
    "### Histogram\n",
    "\n",
    "It shows the distribution in values for data['column_name']"
   ]
  },
  {
   "cell_type": "code",
   "execution_count": null,
   "id": "7a60259b",
   "metadata": {},
   "outputs": [],
   "source": [
    "sns.histplot(data['column_name'])"
   ]
  },
  {
   "cell_type": "markdown",
   "id": "e4407d95",
   "metadata": {},
   "source": [
    "### Density plot\n",
    "kernel density estimate (KDE) by **sns.kdeplot**"
   ]
  },
  {
   "cell_type": "code",
   "execution_count": null,
   "id": "0615fd49",
   "metadata": {},
   "outputs": [],
   "source": [
    "sns.kdeplot(data=data['column_name'], shade=True)"
   ]
  },
  {
   "cell_type": "markdown",
   "id": "91718c3c",
   "metadata": {},
   "source": [
    "### 2D KDE plot\n",
    "two-dimensional kernel density estimate plot with the **sns.jointplot**"
   ]
  },
  {
   "cell_type": "code",
   "execution_count": null,
   "id": "78628e1f",
   "metadata": {},
   "outputs": [],
   "source": [
    "sns.jointplot(x=data['column_name_1'], y=data['column_name_2'], kind=\"kde\")"
   ]
  },
  {
   "cell_type": "markdown",
   "id": "1c0248ba",
   "metadata": {},
   "source": [
    "### Color-coded plots\n",
    "\n",
    "To create color-coded histogram plot, we can should add **hue**.\n",
    "\n",
    "data: provides the name of the variable that we used to read in the data,\n",
    "\n",
    "x: sets the name of column with the data we want to plot,\n",
    "\n",
    "hue: sets the column we'll use to split the data into different histograms.\n"
   ]
  },
  {
   "cell_type": "code",
   "execution_count": null,
   "id": "137b2ebe",
   "metadata": {},
   "outputs": [],
   "source": [
    "sns.histplot(data=data, x=\"column_name_1\" , hue=\"column_name_2\")"
   ]
  },
  {
   "cell_type": "markdown",
   "id": "69bba28a",
   "metadata": {},
   "source": [
    "Also for KDE plot, we can add **hue** and set **shade=True** to get color-coded."
   ]
  },
  {
   "cell_type": "code",
   "execution_count": null,
   "id": "f16467c1",
   "metadata": {},
   "outputs": [],
   "source": [
    "sns.kdeplot(data=data, x=\"column_name_1\" , hue=\"column_name_2\", shade=True)"
   ]
  },
  {
   "cell_type": "markdown",
   "id": "17e76b23",
   "metadata": {},
   "source": [
    "### The style of the figure:\n",
    "\n",
    "\n",
    "Seaborn has five different themes: (1)\"darkgrid\", (2)\"whitegrid\", (3)\"dark\", (4)\"white\", and (5)\"ticks\", and you need only use the command **sns.set_style(\"dark\")** to change it.\n",
    "\n"
   ]
  },
  {
   "cell_type": "code",
   "execution_count": null,
   "id": "b9e74140",
   "metadata": {},
   "outputs": [],
   "source": []
  }
 ],
 "metadata": {
  "kernelspec": {
   "display_name": "Python 3 (ipykernel)",
   "language": "python",
   "name": "python3"
  },
  "language_info": {
   "codemirror_mode": {
    "name": "ipython",
    "version": 3
   },
   "file_extension": ".py",
   "mimetype": "text/x-python",
   "name": "python",
   "nbconvert_exporter": "python",
   "pygments_lexer": "ipython3",
   "version": "3.7.13"
  }
 },
 "nbformat": 4,
 "nbformat_minor": 5
}
