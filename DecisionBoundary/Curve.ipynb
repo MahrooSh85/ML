{
 "cells": [
  {
   "cell_type": "code",
   "execution_count": 15,
   "id": "d70606e6",
   "metadata": {},
   "outputs": [],
   "source": [
    "import numpy as np\n",
    "import pandas as pd"
   ]
  },
  {
   "cell_type": "markdown",
   "id": "ab31bd47",
   "metadata": {},
   "source": [
    "# Precision_recall_curve"
   ]
  },
  {
   "cell_type": "code",
   "execution_count": 16,
   "id": "eb990bf5",
   "metadata": {},
   "outputs": [
    {
     "name": "stdout",
     "output_type": "stream",
     "text": [
      "precision:\n",
      " [0.66666667 0.5        1.         1.        ]\n",
      "recall:\n",
      " [1.  0.5 0.5 0. ]\n",
      "thresholds:\n",
      " [0.35 0.4  0.8 ]\n"
     ]
    }
   ],
   "source": [
    "from sklearn.metrics import precision_recall_curve\n",
    "y_true = np.array([0, 0, 1, 1])\n",
    "y_scores = np.array([0.1, 0.4, 0.35, 0.8])\n",
    "precision, recall, thresholds = precision_recall_curve(y_true, y_scores)\n",
    "\n",
    "print('precision:\\n', precision)\n",
    "print('recall:\\n',recall)\n",
    "print('thresholds:\\n',thresholds)"
   ]
  },
  {
   "cell_type": "markdown",
   "id": "17673bee",
   "metadata": {},
   "source": [
    "# ROC_curve"
   ]
  },
  {
   "cell_type": "code",
   "execution_count": 17,
   "id": "3ea49f71",
   "metadata": {},
   "outputs": [
    {
     "name": "stdout",
     "output_type": "stream",
     "text": [
      "false positive rate:\n",
      " [0.  0.  0.5 0.5 1. ]\n",
      "true positive rate:\n",
      " [0.  0.5 0.5 1.  1. ]\n",
      "thresholds:\n",
      " [1.8  0.8  0.4  0.35 0.1 ]\n"
     ]
    }
   ],
   "source": [
    "from sklearn import metrics\n",
    "y_true = np.array([1, 1, 2, 2])\n",
    "y_scores = np.array([0.1, 0.4, 0.35, 0.8])\n",
    "fpr, tpr, thresholds = metrics.roc_curve(y_true, y_scores, pos_label=2)\n",
    "print('false positive rate:\\n', fpr)\n",
    "print('true positive rate:\\n',tpr)\n",
    "print('thresholds:\\n',thresholds)"
   ]
  },
  {
   "cell_type": "code",
   "execution_count": null,
   "id": "7526ac4f",
   "metadata": {},
   "outputs": [],
   "source": []
  }
 ],
 "metadata": {
  "kernelspec": {
   "display_name": "Python 3 (ipykernel)",
   "language": "python",
   "name": "python3"
  },
  "language_info": {
   "codemirror_mode": {
    "name": "ipython",
    "version": 3
   },
   "file_extension": ".py",
   "mimetype": "text/x-python",
   "name": "python",
   "nbconvert_exporter": "python",
   "pygments_lexer": "ipython3",
   "version": "3.7.13"
  }
 },
 "nbformat": 4,
 "nbformat_minor": 5
}
